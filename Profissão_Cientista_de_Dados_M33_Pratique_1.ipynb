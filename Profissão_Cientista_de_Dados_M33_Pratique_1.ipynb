{
  "cells": [
    {
      "cell_type": "markdown",
      "metadata": {
        "id": "view-in-github",
        "colab_type": "text"
      },
      "source": [
        "<a href=\"https://colab.research.google.com/github/ericbonelli/Cientista-de-Dados_EBAC/blob/main/Profissa%CC%83o_Cientista_de_Dados_M33_Pratique_1.ipynb\" target=\"_parent\"><img src=\"https://colab.research.google.com/assets/colab-badge.svg\" alt=\"Open In Colab\"/></a>"
      ]
    },
    {
      "cell_type": "markdown",
      "metadata": {
        "id": "LWHT-F-jaDgi"
      },
      "source": [
        "# Tarefa"
      ]
    },
    {
      "cell_type": "code",
      "execution_count": 13,
      "metadata": {
        "id": "9j--9eJVaDgj"
      },
      "outputs": [],
      "source": [
        "import pandas as pd\n",
        "import seaborn as sns\n",
        "from scipy.stats import ttest_ind\n",
        "import matplotlib.pyplot as plt\n",
        "from scipy.stats import t\n",
        "import numpy as np\n",
        "import scipy.stats as st"
      ]
    },
    {
      "cell_type": "code",
      "execution_count": 2,
      "metadata": {
        "id": "XYqFsp3saDgl"
      },
      "outputs": [],
      "source": [
        "pg = sns.load_dataset('penguins')"
      ]
    },
    {
      "cell_type": "code",
      "execution_count": 3,
      "metadata": {
        "colab": {
          "base_uri": "https://localhost:8080/",
          "height": 143
        },
        "id": "JQmECw-oaDgm",
        "outputId": "59b00580-9fc2-4762-ec7e-851031dcf931"
      },
      "outputs": [
        {
          "output_type": "execute_result",
          "data": {
            "text/plain": [
              "        count         mean         std     min     25%     50%     75%     max\n",
              "sex                                                                           \n",
              "Female  165.0  3862.272727  666.172050  2700.0  3350.0  3650.0  4550.0  5200.0\n",
              "Male    168.0  4545.684524  787.628884  3250.0  3900.0  4300.0  5312.5  6300.0"
            ],
            "text/html": [
              "\n",
              "  <div id=\"df-60a2767d-45a7-4faf-ab9d-13ce3b95b5fe\" class=\"colab-df-container\">\n",
              "    <div>\n",
              "<style scoped>\n",
              "    .dataframe tbody tr th:only-of-type {\n",
              "        vertical-align: middle;\n",
              "    }\n",
              "\n",
              "    .dataframe tbody tr th {\n",
              "        vertical-align: top;\n",
              "    }\n",
              "\n",
              "    .dataframe thead th {\n",
              "        text-align: right;\n",
              "    }\n",
              "</style>\n",
              "<table border=\"1\" class=\"dataframe\">\n",
              "  <thead>\n",
              "    <tr style=\"text-align: right;\">\n",
              "      <th></th>\n",
              "      <th>count</th>\n",
              "      <th>mean</th>\n",
              "      <th>std</th>\n",
              "      <th>min</th>\n",
              "      <th>25%</th>\n",
              "      <th>50%</th>\n",
              "      <th>75%</th>\n",
              "      <th>max</th>\n",
              "    </tr>\n",
              "    <tr>\n",
              "      <th>sex</th>\n",
              "      <th></th>\n",
              "      <th></th>\n",
              "      <th></th>\n",
              "      <th></th>\n",
              "      <th></th>\n",
              "      <th></th>\n",
              "      <th></th>\n",
              "      <th></th>\n",
              "    </tr>\n",
              "  </thead>\n",
              "  <tbody>\n",
              "    <tr>\n",
              "      <th>Female</th>\n",
              "      <td>165.0</td>\n",
              "      <td>3862.272727</td>\n",
              "      <td>666.172050</td>\n",
              "      <td>2700.0</td>\n",
              "      <td>3350.0</td>\n",
              "      <td>3650.0</td>\n",
              "      <td>4550.0</td>\n",
              "      <td>5200.0</td>\n",
              "    </tr>\n",
              "    <tr>\n",
              "      <th>Male</th>\n",
              "      <td>168.0</td>\n",
              "      <td>4545.684524</td>\n",
              "      <td>787.628884</td>\n",
              "      <td>3250.0</td>\n",
              "      <td>3900.0</td>\n",
              "      <td>4300.0</td>\n",
              "      <td>5312.5</td>\n",
              "      <td>6300.0</td>\n",
              "    </tr>\n",
              "  </tbody>\n",
              "</table>\n",
              "</div>\n",
              "    <div class=\"colab-df-buttons\">\n",
              "\n",
              "  <div class=\"colab-df-container\">\n",
              "    <button class=\"colab-df-convert\" onclick=\"convertToInteractive('df-60a2767d-45a7-4faf-ab9d-13ce3b95b5fe')\"\n",
              "            title=\"Convert this dataframe to an interactive table.\"\n",
              "            style=\"display:none;\">\n",
              "\n",
              "  <svg xmlns=\"http://www.w3.org/2000/svg\" height=\"24px\" viewBox=\"0 -960 960 960\">\n",
              "    <path d=\"M120-120v-720h720v720H120Zm60-500h600v-160H180v160Zm220 220h160v-160H400v160Zm0 220h160v-160H400v160ZM180-400h160v-160H180v160Zm440 0h160v-160H620v160ZM180-180h160v-160H180v160Zm440 0h160v-160H620v160Z\"/>\n",
              "  </svg>\n",
              "    </button>\n",
              "\n",
              "  <style>\n",
              "    .colab-df-container {\n",
              "      display:flex;\n",
              "      gap: 12px;\n",
              "    }\n",
              "\n",
              "    .colab-df-convert {\n",
              "      background-color: #E8F0FE;\n",
              "      border: none;\n",
              "      border-radius: 50%;\n",
              "      cursor: pointer;\n",
              "      display: none;\n",
              "      fill: #1967D2;\n",
              "      height: 32px;\n",
              "      padding: 0 0 0 0;\n",
              "      width: 32px;\n",
              "    }\n",
              "\n",
              "    .colab-df-convert:hover {\n",
              "      background-color: #E2EBFA;\n",
              "      box-shadow: 0px 1px 2px rgba(60, 64, 67, 0.3), 0px 1px 3px 1px rgba(60, 64, 67, 0.15);\n",
              "      fill: #174EA6;\n",
              "    }\n",
              "\n",
              "    .colab-df-buttons div {\n",
              "      margin-bottom: 4px;\n",
              "    }\n",
              "\n",
              "    [theme=dark] .colab-df-convert {\n",
              "      background-color: #3B4455;\n",
              "      fill: #D2E3FC;\n",
              "    }\n",
              "\n",
              "    [theme=dark] .colab-df-convert:hover {\n",
              "      background-color: #434B5C;\n",
              "      box-shadow: 0px 1px 3px 1px rgba(0, 0, 0, 0.15);\n",
              "      filter: drop-shadow(0px 1px 2px rgba(0, 0, 0, 0.3));\n",
              "      fill: #FFFFFF;\n",
              "    }\n",
              "  </style>\n",
              "\n",
              "    <script>\n",
              "      const buttonEl =\n",
              "        document.querySelector('#df-60a2767d-45a7-4faf-ab9d-13ce3b95b5fe button.colab-df-convert');\n",
              "      buttonEl.style.display =\n",
              "        google.colab.kernel.accessAllowed ? 'block' : 'none';\n",
              "\n",
              "      async function convertToInteractive(key) {\n",
              "        const element = document.querySelector('#df-60a2767d-45a7-4faf-ab9d-13ce3b95b5fe');\n",
              "        const dataTable =\n",
              "          await google.colab.kernel.invokeFunction('convertToInteractive',\n",
              "                                                    [key], {});\n",
              "        if (!dataTable) return;\n",
              "\n",
              "        const docLinkHtml = 'Like what you see? Visit the ' +\n",
              "          '<a target=\"_blank\" href=https://colab.research.google.com/notebooks/data_table.ipynb>data table notebook</a>'\n",
              "          + ' to learn more about interactive tables.';\n",
              "        element.innerHTML = '';\n",
              "        dataTable['output_type'] = 'display_data';\n",
              "        await google.colab.output.renderOutput(dataTable, element);\n",
              "        const docLink = document.createElement('div');\n",
              "        docLink.innerHTML = docLinkHtml;\n",
              "        element.appendChild(docLink);\n",
              "      }\n",
              "    </script>\n",
              "  </div>\n",
              "\n",
              "\n",
              "    <div id=\"df-aed9132f-b7a3-464e-9615-2e87c89d5b90\">\n",
              "      <button class=\"colab-df-quickchart\" onclick=\"quickchart('df-aed9132f-b7a3-464e-9615-2e87c89d5b90')\"\n",
              "                title=\"Suggest charts\"\n",
              "                style=\"display:none;\">\n",
              "\n",
              "<svg xmlns=\"http://www.w3.org/2000/svg\" height=\"24px\"viewBox=\"0 0 24 24\"\n",
              "     width=\"24px\">\n",
              "    <g>\n",
              "        <path d=\"M19 3H5c-1.1 0-2 .9-2 2v14c0 1.1.9 2 2 2h14c1.1 0 2-.9 2-2V5c0-1.1-.9-2-2-2zM9 17H7v-7h2v7zm4 0h-2V7h2v10zm4 0h-2v-4h2v4z\"/>\n",
              "    </g>\n",
              "</svg>\n",
              "      </button>\n",
              "\n",
              "<style>\n",
              "  .colab-df-quickchart {\n",
              "      --bg-color: #E8F0FE;\n",
              "      --fill-color: #1967D2;\n",
              "      --hover-bg-color: #E2EBFA;\n",
              "      --hover-fill-color: #174EA6;\n",
              "      --disabled-fill-color: #AAA;\n",
              "      --disabled-bg-color: #DDD;\n",
              "  }\n",
              "\n",
              "  [theme=dark] .colab-df-quickchart {\n",
              "      --bg-color: #3B4455;\n",
              "      --fill-color: #D2E3FC;\n",
              "      --hover-bg-color: #434B5C;\n",
              "      --hover-fill-color: #FFFFFF;\n",
              "      --disabled-bg-color: #3B4455;\n",
              "      --disabled-fill-color: #666;\n",
              "  }\n",
              "\n",
              "  .colab-df-quickchart {\n",
              "    background-color: var(--bg-color);\n",
              "    border: none;\n",
              "    border-radius: 50%;\n",
              "    cursor: pointer;\n",
              "    display: none;\n",
              "    fill: var(--fill-color);\n",
              "    height: 32px;\n",
              "    padding: 0;\n",
              "    width: 32px;\n",
              "  }\n",
              "\n",
              "  .colab-df-quickchart:hover {\n",
              "    background-color: var(--hover-bg-color);\n",
              "    box-shadow: 0 1px 2px rgba(60, 64, 67, 0.3), 0 1px 3px 1px rgba(60, 64, 67, 0.15);\n",
              "    fill: var(--button-hover-fill-color);\n",
              "  }\n",
              "\n",
              "  .colab-df-quickchart-complete:disabled,\n",
              "  .colab-df-quickchart-complete:disabled:hover {\n",
              "    background-color: var(--disabled-bg-color);\n",
              "    fill: var(--disabled-fill-color);\n",
              "    box-shadow: none;\n",
              "  }\n",
              "\n",
              "  .colab-df-spinner {\n",
              "    border: 2px solid var(--fill-color);\n",
              "    border-color: transparent;\n",
              "    border-bottom-color: var(--fill-color);\n",
              "    animation:\n",
              "      spin 1s steps(1) infinite;\n",
              "  }\n",
              "\n",
              "  @keyframes spin {\n",
              "    0% {\n",
              "      border-color: transparent;\n",
              "      border-bottom-color: var(--fill-color);\n",
              "      border-left-color: var(--fill-color);\n",
              "    }\n",
              "    20% {\n",
              "      border-color: transparent;\n",
              "      border-left-color: var(--fill-color);\n",
              "      border-top-color: var(--fill-color);\n",
              "    }\n",
              "    30% {\n",
              "      border-color: transparent;\n",
              "      border-left-color: var(--fill-color);\n",
              "      border-top-color: var(--fill-color);\n",
              "      border-right-color: var(--fill-color);\n",
              "    }\n",
              "    40% {\n",
              "      border-color: transparent;\n",
              "      border-right-color: var(--fill-color);\n",
              "      border-top-color: var(--fill-color);\n",
              "    }\n",
              "    60% {\n",
              "      border-color: transparent;\n",
              "      border-right-color: var(--fill-color);\n",
              "    }\n",
              "    80% {\n",
              "      border-color: transparent;\n",
              "      border-right-color: var(--fill-color);\n",
              "      border-bottom-color: var(--fill-color);\n",
              "    }\n",
              "    90% {\n",
              "      border-color: transparent;\n",
              "      border-bottom-color: var(--fill-color);\n",
              "    }\n",
              "  }\n",
              "</style>\n",
              "\n",
              "      <script>\n",
              "        async function quickchart(key) {\n",
              "          const quickchartButtonEl =\n",
              "            document.querySelector('#' + key + ' button');\n",
              "          quickchartButtonEl.disabled = true;  // To prevent multiple clicks.\n",
              "          quickchartButtonEl.classList.add('colab-df-spinner');\n",
              "          try {\n",
              "            const charts = await google.colab.kernel.invokeFunction(\n",
              "                'suggestCharts', [key], {});\n",
              "          } catch (error) {\n",
              "            console.error('Error during call to suggestCharts:', error);\n",
              "          }\n",
              "          quickchartButtonEl.classList.remove('colab-df-spinner');\n",
              "          quickchartButtonEl.classList.add('colab-df-quickchart-complete');\n",
              "        }\n",
              "        (() => {\n",
              "          let quickchartButtonEl =\n",
              "            document.querySelector('#df-aed9132f-b7a3-464e-9615-2e87c89d5b90 button');\n",
              "          quickchartButtonEl.style.display =\n",
              "            google.colab.kernel.accessAllowed ? 'block' : 'none';\n",
              "        })();\n",
              "      </script>\n",
              "    </div>\n",
              "\n",
              "    </div>\n",
              "  </div>\n"
            ],
            "application/vnd.google.colaboratory.intrinsic+json": {
              "type": "dataframe",
              "summary": "{\n  \"name\": \"pg\",\n  \"rows\": 2,\n  \"fields\": [\n    {\n      \"column\": \"sex\",\n      \"properties\": {\n        \"dtype\": \"string\",\n        \"num_unique_values\": 2,\n        \"samples\": [\n          \"Male\",\n          \"Female\"\n        ],\n        \"semantic_type\": \"\",\n        \"description\": \"\"\n      }\n    },\n    {\n      \"column\": \"count\",\n      \"properties\": {\n        \"dtype\": \"number\",\n        \"std\": 2.1213203435596424,\n        \"min\": 165.0,\n        \"max\": 168.0,\n        \"num_unique_values\": 2,\n        \"samples\": [\n          168.0,\n          165.0\n        ],\n        \"semantic_type\": \"\",\n        \"description\": \"\"\n      }\n    },\n    {\n      \"column\": \"mean\",\n      \"properties\": {\n        \"dtype\": \"number\",\n        \"std\": 483.2451156740498,\n        \"min\": 3862.2727272727275,\n        \"max\": 4545.684523809524,\n        \"num_unique_values\": 2,\n        \"samples\": [\n          4545.684523809524,\n          3862.2727272727275\n        ],\n        \"semantic_type\": \"\",\n        \"description\": \"\"\n      }\n    },\n    {\n      \"column\": \"std\",\n      \"properties\": {\n        \"dtype\": \"number\",\n        \"std\": 85.88295139683242,\n        \"min\": 666.1720495161447,\n        \"max\": 787.6288841581745,\n        \"num_unique_values\": 2,\n        \"samples\": [\n          787.6288841581745,\n          666.1720495161447\n        ],\n        \"semantic_type\": \"\",\n        \"description\": \"\"\n      }\n    },\n    {\n      \"column\": \"min\",\n      \"properties\": {\n        \"dtype\": \"number\",\n        \"std\": 388.90872965260115,\n        \"min\": 2700.0,\n        \"max\": 3250.0,\n        \"num_unique_values\": 2,\n        \"samples\": [\n          3250.0,\n          2700.0\n        ],\n        \"semantic_type\": \"\",\n        \"description\": \"\"\n      }\n    },\n    {\n      \"column\": \"25%\",\n      \"properties\": {\n        \"dtype\": \"number\",\n        \"std\": 388.90872965260115,\n        \"min\": 3350.0,\n        \"max\": 3900.0,\n        \"num_unique_values\": 2,\n        \"samples\": [\n          3900.0,\n          3350.0\n        ],\n        \"semantic_type\": \"\",\n        \"description\": \"\"\n      }\n    },\n    {\n      \"column\": \"50%\",\n      \"properties\": {\n        \"dtype\": \"number\",\n        \"std\": 459.6194077712559,\n        \"min\": 3650.0,\n        \"max\": 4300.0,\n        \"num_unique_values\": 2,\n        \"samples\": [\n          4300.0,\n          3650.0\n        ],\n        \"semantic_type\": \"\",\n        \"description\": \"\"\n      }\n    },\n    {\n      \"column\": \"75%\",\n      \"properties\": {\n        \"dtype\": \"number\",\n        \"std\": 539.1689206547425,\n        \"min\": 4550.0,\n        \"max\": 5312.5,\n        \"num_unique_values\": 2,\n        \"samples\": [\n          5312.5,\n          4550.0\n        ],\n        \"semantic_type\": \"\",\n        \"description\": \"\"\n      }\n    },\n    {\n      \"column\": \"max\",\n      \"properties\": {\n        \"dtype\": \"number\",\n        \"std\": 777.8174593052023,\n        \"min\": 5200.0,\n        \"max\": 6300.0,\n        \"num_unique_values\": 2,\n        \"samples\": [\n          6300.0,\n          5200.0\n        ],\n        \"semantic_type\": \"\",\n        \"description\": \"\"\n      }\n    }\n  ]\n}"
            }
          },
          "metadata": {},
          "execution_count": 3
        }
      ],
      "source": [
        "pg.groupby('sex')['body_mass_g'].describe()"
      ]
    },
    {
      "cell_type": "code",
      "execution_count": 4,
      "metadata": {
        "colab": {
          "base_uri": "https://localhost:8080/",
          "height": 466
        },
        "id": "VsDoHQ9WaDgn",
        "outputId": "f7a441d2-f3f0-497d-c078-d65e1f893807"
      },
      "outputs": [
        {
          "output_type": "execute_result",
          "data": {
            "text/plain": [
              "<Axes: xlabel='sex', ylabel='body_mass_g'>"
            ]
          },
          "metadata": {},
          "execution_count": 4
        },
        {
          "output_type": "display_data",
          "data": {
            "text/plain": [
              "<Figure size 640x480 with 1 Axes>"
            ],
            "image/png": "[encoded data removed]"
          },
          "metadata": {}
        }
      ],
      "source": [
        "sns.pointplot(data=pg, x='sex', y = 'body_mass_g')"
      ]
    },
    {
      "cell_type": "markdown",
      "metadata": {
        "id": "rgFSO82baDgo"
      },
      "source": [
        "## 1) Diferença de peso entre machos e fêmeas\n",
        "\n",
        "Na base de pinguins, podemos ver que há diferença de peso entre machos e fêmeas. Mas será que é uma conclusão extrapolável a toda a população de pinguins? Assumindo que essa amostra é aleatória e representativa da população de pinguins, realize um teste T com 5% de significância para verificar se podemos induzir esta conclusão para a população toda."
      ]
    },
    {
      "cell_type": "code",
      "execution_count": 20,
      "metadata": {
        "colab": {
          "base_uri": "https://localhost:8080/"
        },
        "id": "xXSg9YwZaDgq",
        "outputId": "0b4bfd5c-c9a6-4e1b-b27a-b879ab35c0ed"
      },
      "outputs": [
        {
          "output_type": "stream",
          "name": "stdout",
          "text": [
            "Estatística t: 8.555\n",
            "Valor-p: 0.0000\n",
            "Rejeitamos H0: há evidências de que o peso médio é diferente entre machos e fêmeas.\n"
          ]
        }
      ],
      "source": [
        "# Remove valores ausentes\n",
        "pg = pg.dropna(subset=['sex', 'body_mass_g'])\n",
        "\n",
        "# Cria dois grupos: machos e fêmeas\n",
        "machos = pg[pg['sex'] == 'Male']['body_mass_g']\n",
        "femeas = pg[pg['sex'] == 'Female']['body_mass_g']\n",
        "\n",
        "# Realiza o teste t de Welch (não assume variância igual)\n",
        "t_stat, p_valor = ttest_ind(machos, femeas, equal_var=False)\n",
        "\n",
        "print(f'Estatística t: {t_stat:.3f}')\n",
        "print(f'Valor-p: {p_valor:.4f}')\n",
        "\n",
        "# Conclusão\n",
        "if p_valor < 0.05:\n",
        "    print(\"Rejeitamos H0: há evidências de que o peso médio é diferente entre machos e fêmeas.\")\n",
        "else:\n",
        "    print(\"Não rejeitamos H0: não há evidências suficientes para afirmar diferença entre os pesos médios.\")\n"
      ]
    },
    {
      "cell_type": "markdown",
      "metadata": {
        "id": "AIB829KOaDgr"
      },
      "source": [
        "## 2) (opcional) Representação gráfica do teste\n",
        "\n",
        "Siga os passos da aula para você poder visualizar a estatística do teste, sua distribuição e a região crítica do teste."
      ]
    },
    {
      "cell_type": "code",
      "source": [
        "# Graus de liberdade aproximado pelo teste de Welch\n",
        "n1 = len(machos)\n",
        "n2 = len(femeas)\n",
        "df = ((machos.var()/n1 + femeas.var()/n2)**2) / ((machos.var()/n1)**2/(n1-1) + (femeas.var()/n2)**2/(n2-1))\n",
        "\n",
        "# Geração da curva t\n",
        "x = np.linspace(-5, 5, 500)\n",
        "y = st.t.pdf(x, df)\n",
        "\n",
        "# Limiares de rejeição (para teste bicaudal com alpha = 0.05)\n",
        "alpha = 0.05\n",
        "t_critico = st.t.ppf(1 - alpha/2, df)\n",
        "\n",
        "# Plot\n",
        "plt.figure(figsize=(10,6))\n",
        "plt.plot(x, y, label=f't(df={df:.1f})', color='black')\n",
        "\n",
        "# Região crítica à direita\n",
        "plt.fill_between(x, 0, y, where=(x > t_critico), color='red', alpha=0.3, label='Região crítica (α/2)')\n",
        "# Região crítica à esquerda\n",
        "plt.fill_between(x, 0, y, where=(x < -t_critico), color='red', alpha=0.3)\n",
        "\n",
        "# Estatística observada\n",
        "plt.axvline(t_stat, color='blue', linestyle='--', lw=2, label=f'Estatística t = {t_stat:.2f}')\n",
        "\n",
        "# Anotações\n",
        "plt.title('Distribuição t do teste de diferença de médias')\n",
        "plt.xlabel('t')\n",
        "plt.ylabel('Densidade')\n",
        "plt.legend()\n",
        "plt.grid(True)\n",
        "plt.show()"
      ],
      "metadata": {
        "colab": {
          "base_uri": "https://localhost:8080/",
          "height": 565
        },
        "id": "_vbyzPDidF9G",
        "outputId": "3d23df84-c42b-4a64-cdc5-8ba56408907f"
      },
      "execution_count": 21,
      "outputs": [
        {
          "output_type": "display_data",
          "data": {
            "text/plain": [
              "<Figure size 1000x600 with 1 Axes>"
            ],
            "image/png": "[encoded data removed]"
          },
          "metadata": {}
        }
      ]
    },
    {
      "cell_type": "markdown",
      "metadata": {
        "id": "7jT77ynHaDgs"
      },
      "source": [
        "## 3) Considere as espécies\n",
        "\n",
        "Repita o exercício I, uma vez para cada espécie de pinguim. Qual é o *p-value* associado a cada raça?"
      ]
    },
    {
      "cell_type": "code",
      "execution_count": 22,
      "metadata": {
        "colab": {
          "base_uri": "https://localhost:8080/"
        },
        "id": "PmBPK5B-aDgs",
        "outputId": "c6a6dfe9-3cef-4617-c30c-433c51d080fe"
      },
      "outputs": [
        {
          "output_type": "stream",
          "name": "stdout",
          "text": [
            "Espécie       | Machos | Fêmeas | t       | p-valor\n",
            "-----------------------------------------------------\n",
            "Adelie        |   73   |   73    | 13.13   | 0.0000\n",
            "Chinstrap     |   34   |   34    | 5.21    | 0.0000\n",
            "Gentoo        |   61   |   58    | 14.76   | 0.0000\n"
          ]
        }
      ],
      "source": [
        "import pandas as pd\n",
        "import seaborn as sns\n",
        "from scipy.stats import ttest_ind\n",
        "\n",
        "# Carregar e preparar os dados\n",
        "pg = sns.load_dataset('penguins')\n",
        "pg = pg.dropna(subset=['sex', 'species', 'body_mass_g'])\n",
        "\n",
        "# Lista de espécies únicas\n",
        "especies = pg['species'].unique()\n",
        "\n",
        "# Aplicar o teste t para cada espécie\n",
        "resultados = []\n",
        "\n",
        "for especie in especies:\n",
        "    subgrupo = pg[pg['species'] == especie]\n",
        "    machos = subgrupo[subgrupo['sex'] == 'Male']['body_mass_g']\n",
        "    femeas = subgrupo[subgrupo['sex'] == 'Female']['body_mass_g']\n",
        "\n",
        "    # Garantir que há dados suficientes para o teste\n",
        "    if len(machos) > 1 and len(femeas) > 1:\n",
        "        t_stat, p_valor = ttest_ind(machos, femeas, equal_var=False)\n",
        "        resultados.append((especie, len(machos), len(femeas), t_stat, p_valor))\n",
        "    else:\n",
        "        resultados.append((especie, len(machos), len(femeas), None, None))\n",
        "\n",
        "# Exibir resultados\n",
        "print(\"Espécie       | Machos | Fêmeas | t       | p-valor\")\n",
        "print(\"-----------------------------------------------------\")\n",
        "for especie, n_m, n_f, t, p in resultados:\n",
        "    t_str = f\"{t:.2f}\" if t is not None else \"n/a\"\n",
        "    p_str = f\"{p:.4f}\" if p is not None else \"n/a\"\n",
        "    print(f\"{especie:<13} | {n_m:^6} | {n_f:^7} | {t_str:<7} | {p_str}\")\n"
      ]
    }
  ],
  "metadata": {
    "kernelspec": {
      "display_name": "Python 3",
      "language": "python",
      "name": "python3"
    },
    "language_info": {
      "codemirror_mode": {
        "name": "ipython",
        "version": 3
      },
      "file_extension": ".py",
      "mimetype": "text/x-python",
      "name": "python",
      "nbconvert_exporter": "python",
      "pygments_lexer": "ipython3",
      "version": "3.8.5"
    },
    "toc": {
      "base_numbering": 1,
      "nav_menu": {},
      "number_sections": false,
      "sideBar": true,
      "skip_h1_title": true,
      "title_cell": "Índice",
      "title_sidebar": "Conteúdo",
      "toc_cell": false,
      "toc_position": {},
      "toc_section_display": true,
      "toc_window_display": false
    },
    "varInspector": {
      "cols": {
        "lenName": 16,
        "lenType": 16,
        "lenVar": 40
      },
      "kernels_config": {
        "python": {
          "delete_cmd_postfix": "",
          "delete_cmd_prefix": "del ",
          "library": "var_list.py",
          "varRefreshCmd": "print(var_dic_list())"
        },
        "r": {
          "delete_cmd_postfix": ") ",
          "delete_cmd_prefix": "rm(",
          "library": "var_list.r",
          "varRefreshCmd": "cat(var_dic_list()) "
        }
      },
      "types_to_exclude": [
        "module",
        "function",
        "builtin_function_or_method",
        "instance",
        "_Feature"
      ],
      "window_display": false
    },
    "colab": {
      "provenance": [],
      "include_colab_link": true
    }
  },
  "nbformat": 4,
  "nbformat_minor": 0
}