{
  "nbformat": 4,
  "nbformat_minor": 0,
  "metadata": {
    "colab": {
      "provenance": [],
      "authorship_tag": "ABX9TyMs9mbUGVBakaz6PJbXmIRv",
      "include_colab_link": true
    },
    "kernelspec": {
      "name": "python3",
      "display_name": "Python 3"
    },
    "language_info": {
      "name": "python"
    }
  },
  "cells": [
    {
      "cell_type": "markdown",
      "metadata": {
        "id": "view-in-github",
        "colab_type": "text"
      },
      "source": [
        "<a href=\"https://colab.research.google.com/github/ericbonelli/Cientista-de-Dados_EBAC/blob/main/Random_Forest.ipynb\" target=\"_parent\"><img src=\"https://colab.research.google.com/assets/colab-badge.svg\" alt=\"Open In Colab\"/></a>"
      ]
    },
    {
      "cell_type": "markdown",
      "source": [
        "# 🌳 Random Forest"
      ],
      "metadata": {
        "id": "-w76JuWKgUdU"
      }
    },
    {
      "cell_type": "markdown",
      "source": [
        "## ✅ 1. O que é Random Forest?\n",
        "\n",
        "O **Random Forest** é um algoritmo de aprendizado de máquina que constrói várias árvores de decisão diferentes e combina os resultados delas para fazer uma previsão final.\n",
        "\n",
        "A diferença principal em relação ao Bagging é que o Random Forest **além de fazer amostragem com reposição (bootstrap)**, também **escolhe aleatoriamente apenas algumas features (colunas)** para cada árvore. Isso diminui a correlação entre elas e aumenta a robustez do modelo.\n",
        "\n",
        "Como resultado, temos um modelo mais **preciso, estável e resistente ao overfitting** do que uma única árvore de decisão.\n",
        "\n",
        "---\n"
      ],
      "metadata": {
        "id": "JRHLPTmkgijm"
      }
    },
    {
      "cell_type": "markdown",
      "source": [
        "\n",
        "## ✅ 2. Passo a passo para o algoritmo Random Forest\n",
        "\n",
        "\n",
        "1. **Bootstrap**\n",
        "   - Criar várias amostras com reposição a partir do conjunto de dados original.\n",
        "\n",
        "2. **Seleção aleatória de features**\n",
        "   - Para cada árvore, escolher aleatoriamente um subconjunto de colunas (features) para treinar, o que gera árvores diferentes e menos correlacionadas.\n",
        "\n",
        "3. **Modelagem com Decision Trees**\n",
        "   - Treinar uma árvore de decisão em cada amostra com as features selecionadas.\n",
        "\n",
        "4. **Agregação**\n",
        "   - Combinar as previsões das árvores:\n",
        "     - Para classificação: usar votação (classe mais votada).\n",
        "     - Para regressão: usar a média das previsões.\n",
        "\n",
        "   ---"
      ],
      "metadata": {
        "id": "ldS7zCnXgswv"
      }
    },
    {
      "cell_type": "markdown",
      "source": [
        "## ✅ 3. Qual a diferença entre Bagging e Random Forest?"
      ],
      "metadata": {
        "id": "BDZyI48Bod1O"
      }
    },
    {
      "cell_type": "markdown",
      "source": [
        "| Característica              | **Bagging**                              | **Random Forest**                                 |\n",
        "|----------------------------|------------------------------------------|---------------------------------------------------|\n",
        "| Tipo de modelo base        | Qualquer (mas geralmente Decision Trees) | Apenas Árvores de Decisão                        |\n",
        "| Bootstrap (amostragem)     | ✅ Sim                                   | ✅ Sim                                            |\n",
        "| Seleção aleatória de features | ❌ Não (usa todas)                      | ✅ Sim (subset aleatório por árvore)             |\n",
        "| Correlação entre árvores   | Alta                                     | Baixa (por causa da seleção de features)         |\n",
        "| Votação/Média              | ✅ Sim                                   | ✅ Sim                                            |\n",
        "| Exemplo em sklearn         | `BaggingClassifier`                      | `RandomForestClassifier`                         |\n",
        "\n",
        "---"
      ],
      "metadata": {
        "id": "6OmuxDPoohnR"
      }
    },
    {
      "cell_type": "markdown",
      "source": [
        "## ✅ 4. Implementação em Python\n",
        "\n",
        "Vamos usar o conjunto de dados Iris como exemplo e aplicar o Randon Farest, sendo demonstrando passo a passo de forma manual e depois usando scikit-learn\n",
        "\n",
        "---"
      ],
      "metadata": {
        "id": "aroFvdA8g551"
      }
    },
    {
      "cell_type": "markdown",
      "source": [
        "# 🌳 4.1. Random Forest com Dataset Iris - Manual\n",
        "\n",
        "Vamos entender o funcionamento do Randon forest recriando suas 4 etapas principais com o dataset Iris.\n",
        "\n",
        "---"
      ],
      "metadata": {
        "id": "9ZeGybOtio5F"
      }
    },
    {
      "cell_type": "markdown",
      "source": [
        "## 📌 Etapa 1: Bootstrap (amostragem com reposição)"
      ],
      "metadata": {
        "id": "Cpz7qHvhkxAq"
      }
    },
    {
      "cell_type": "code",
      "source": [
        "import numpy as np\n",
        "import pandas as pd\n",
        "from sklearn.datasets import load_iris\n",
        "from sklearn.utils import resample\n",
        "from sklearn.model_selection import train_test_split\n",
        "\n",
        "# Carregar dataset Iris\n",
        "iris = load_iris()\n",
        "X = pd.DataFrame(iris.data, columns=iris.feature_names)\n",
        "y = pd.Series(iris.target)\n",
        "feature_names = X.columns.tolist()\n",
        "\n",
        "# Dividir dados para teste\n",
        "X_train, X_test, y_train, y_test = train_test_split(X, y, random_state=42)"
      ],
      "metadata": {
        "id": "k339usHWi5LN"
      },
      "execution_count": null,
      "outputs": []
    },
    {
      "cell_type": "markdown",
      "source": [
        "## 🔍 Etapa 2: Feature Selection (seleção aleatória de colunas)"
      ],
      "metadata": {
        "id": "H8LWfeWKpyHE"
      }
    },
    {
      "cell_type": "code",
      "source": [
        "# Função para selecionar aleatoriamente k features\n",
        "def selecionar_features(X, k, random_state=None):\n",
        "    np.random.seed(random_state)\n",
        "    cols = np.random.choice(X.columns, size=k, replace=False)\n",
        "    return X[cols], cols"
      ],
      "metadata": {
        "id": "CUsMMmNup6kk"
      },
      "execution_count": null,
      "outputs": []
    },
    {
      "cell_type": "markdown",
      "source": [
        "## 🌱 Etapa 3: Treinar várias Árvores com subsets diferentes"
      ],
      "metadata": {
        "id": "JUKjM5Mwi8wK"
      }
    },
    {
      "cell_type": "code",
      "source": [
        "from sklearn.tree import DecisionTreeClassifier\n",
        "\n",
        "n_arvores = 10\n",
        "k_features = 2\n",
        "modelos = []\n",
        "colunas_usadas = []\n",
        "\n",
        "for i in range(n_arvores):\n",
        "    # Etapa 1: Bootstrap\n",
        "    X_sample, y_sample = resample(X_train, y_train, replace=True, random_state=i)\n",
        "\n",
        "    # Etapa 2: Feature Selection\n",
        "    X_sub, cols = selecionar_features(X_sample, k=k_features, random_state=i)\n",
        "\n",
        "    # Etapa 3: Modelagem\n",
        "    modelo = DecisionTreeClassifier(random_state=i)\n",
        "    modelo.fit(X_sub, y_sample)\n",
        "\n",
        "    modelos.append(modelo)\n",
        "    colunas_usadas.append(cols)"
      ],
      "metadata": {
        "id": "QaqpqeD_i_Kl"
      },
      "execution_count": null,
      "outputs": []
    },
    {
      "cell_type": "markdown",
      "source": [
        "## 🧠 Etapa 4: Agregação das Previsões (Votação)\n"
      ],
      "metadata": {
        "id": "nvibPlZGjNY4"
      }
    },
    {
      "cell_type": "code",
      "source": [
        "from scipy.stats import mode\n",
        "from sklearn.metrics import accuracy_score\n",
        "\n",
        "# Fazer previsões com as árvores\n",
        "previsoes = []\n",
        "\n",
        "for modelo, cols in zip(modelos, colunas_usadas):\n",
        "    X_test_sub = X_test[cols]\n",
        "    pred = modelo.predict(X_test_sub)\n",
        "    previsoes.append(pred)\n",
        "\n",
        "# Votação majoritária\n",
        "previsoes = np.array(previsoes)\n",
        "final = mode(previsoes, axis=0, keepdims=True).mode[0]\n",
        "\n",
        "print(\"✅ Acurácia do Random Forest manual:\", accuracy_score(y_test, final))"
      ],
      "metadata": {
        "colab": {
          "base_uri": "https://localhost:8080/"
        },
        "id": "m6-MVLYwjPAB",
        "outputId": "19407b84-984d-4675-d93a-456ceb04698e"
      },
      "execution_count": null,
      "outputs": [
        {
          "output_type": "stream",
          "name": "stdout",
          "text": [
            "✅ Acurácia do Random Forest manual: 1.0\n"
          ]
        }
      ]
    },
    {
      "cell_type": "markdown",
      "source": [
        "# ⚡ 4.2. Random Forest com Scikit-learn (automático)\n",
        "\n",
        "---\n",
        "\n"
      ],
      "metadata": {
        "id": "Xlu-mwBNj90I"
      }
    },
    {
      "cell_type": "code",
      "source": [
        "from sklearn.datasets import load_iris\n",
        "from sklearn.model_selection import train_test_split\n",
        "from sklearn.ensemble import RandomForestClassifier\n",
        "from sklearn.metrics import accuracy_score\n",
        "\n",
        "# Carregar dados\n",
        "X, y = load_iris(return_X_y=True)\n",
        "X_train, X_test, y_train, y_test = train_test_split(X, y, random_state=42)\n",
        "\n",
        "# Criar Random Forest com 10 árvores\n",
        "rf = RandomForestClassifier(n_estimators=10, random_state=42)\n",
        "rf.fit(X_train, y_train)\n",
        "\n",
        "# Previsão e avaliação\n",
        "y_pred = rf.predict(X_test)\n",
        "print(\"✅ Acurácia com RandomForestClassifier:\", accuracy_score(y_test, y_pred))"
      ],
      "metadata": {
        "colab": {
          "base_uri": "https://localhost:8080/"
        },
        "id": "LlsdlCeFkT62",
        "outputId": "89b82142-e47d-407c-8b8b-c723725ce827"
      },
      "execution_count": null,
      "outputs": [
        {
          "output_type": "stream",
          "name": "stdout",
          "text": [
            "✅ Acurácia com RandomForestClassifier: 1.0\n"
          ]
        }
      ]
    },
    {
      "cell_type": "markdown",
      "source": [],
      "metadata": {
        "id": "_duPwIglsicu"
      }
    },
    {
      "cell_type": "markdown",
      "source": [
        "# 🌲 Hiperparâmetros do Random Forest\n",
        "\n",
        "---"
      ],
      "metadata": {
        "id": "5oVk7bJ2skE2"
      }
    },
    {
      "cell_type": "markdown",
      "source": [
        "## ✅ 1. Quais são os principais hiperparâmetros do Random Forest?\n",
        "\n",
        "- `n_estimators`: número de árvores na floresta.\n",
        "- `max_depth`: profundidade máxima de cada árvore.\n",
        "- `min_samples_split`: número mínimo de amostras para dividir um nó.\n",
        "- `min_samples_leaf`: número mínimo de amostras em uma folha.\n",
        "- `max_features`: número de features consideradas em cada divisão.\n",
        "- `bootstrap`: se usa amostragem com reposição (bootstrap).\n",
        "- `random_state`: semente para reprodutibilidade.\n",
        "- `criterion`: função para medir a qualidade da divisão (`gini`, `entropy`).\n",
        "- `oob_score`: se calcula a acurácia usando os dados fora da amostra (out-of-bag).\n",
        "\n",
        "---\n",
        "\n",
        "## ✅ 2. Para que serve cada um deles?\n",
        "\n",
        "| Hiperparâmetro        | Função                                                                 |\n",
        "|-----------------------|------------------------------------------------------------------------|\n",
        "| `n_estimators`        | Quantidade de árvores. Mais árvores = mais robustez (até certo ponto). |\n",
        "| `max_depth`           | Limita a profundidade da árvore, evitando overfitting.                |\n",
        "| `min_samples_split`   | Mínimo de amostras para dividir um nó. Evita divisões com poucos dados. |\n",
        "| `min_samples_leaf`    | Mínimo de amostras em uma folha. Ajuda na regularização.              |\n",
        "| `max_features`        | Número de features a considerar em cada divisão. Reduz correlação entre árvores. |\n",
        "| `bootstrap`           | Se `True`, usa amostragem com reposição.                              |\n",
        "| `random_state`        | Garante que os resultados sejam reproduzíveis.                        |\n",
        "| `criterion`           | Critério de divisão: `gini` ou `entropy`.                             |\n",
        "| `oob_score`           | Avalia performance usando dados fora da amostra (sem usar `test`).    |\n",
        "\n",
        "---\n",
        "\n",
        "## 🧠 Hiperparâmetros mais ajustados por profissionais\n",
        "\n",
        "Os profissionais geralmente ajustam:\n",
        "\n",
        "- `n_estimators`: 100 a 500\n",
        "- `max_depth`: 5 a 20 (ou `None`)\n",
        "- `min_samples_split`: 2, 5 ou 10\n",
        "- `min_samples_leaf`: 1, 2 ou 4\n",
        "- `max_features`: `'sqrt'` (mais comum), `'log2'`, ou valor numérico\n",
        "- `bootstrap`: `True` na maioria dos casos\n",
        "\n",
        "Exemplo de configuração comum:\n",
        "```python\n",
        "RandomForestClassifier(\n",
        "    n_estimators=100,\n",
        "    max_depth=10,\n",
        "    min_samples_split=5,\n",
        "    min_samples_leaf=2,\n",
        "    max_features='sqrt',\n",
        "    bootstrap=True,\n",
        "    random_state=42\n",
        ")\n"
      ],
      "metadata": {
        "id": "NfE_3Tehub6Q"
      }
    },
    {
      "cell_type": "markdown",
      "source": [
        "⚙️ Exemplo com GridSearchCV para ajuste de hiperparâmetros"
      ],
      "metadata": {
        "id": "-SVj5P0auzXA"
      }
    },
    {
      "cell_type": "code",
      "source": [
        "from sklearn.model_selection import GridSearchCV\n",
        "from sklearn.ensemble import RandomForestClassifier\n",
        "from sklearn.datasets import load_iris\n",
        "from sklearn.model_selection import train_test_split\n",
        "from sklearn.metrics import accuracy_score\n",
        "\n",
        "# Carregar dados\n",
        "X, y = load_iris(return_X_y=True)\n",
        "X_train, X_test, y_train, y_test = train_test_split(X, y, random_state=42)\n",
        "\n",
        "# Definir modelo e parâmetros\n",
        "rf = RandomForestClassifier(random_state=42)\n",
        "parametros = {\n",
        "    'n_estimators': [50, 100, 200],\n",
        "    'max_depth': [3, 5, 10, None],\n",
        "    'min_samples_split': [2, 5, 10],\n",
        "    'min_samples_leaf': [1, 2, 4],\n",
        "    'max_features': ['auto', 'sqrt', 'log2'],\n",
        "    'bootstrap': [True, False]\n",
        "}\n",
        "\n",
        "# Rodar GridSearchCV\n",
        "grid_search = GridSearchCV(estimator=rf, param_grid=parametros, cv=5, n_jobs=-1, verbose=2)\n",
        "grid_search.fit(X_train, y_train)\n",
        "\n",
        "# Avaliar\n",
        "print(\"Melhores parâmetros:\", grid_search.best_params_)\n",
        "y_pred = grid_search.best_estimator_.predict(X_test)\n",
        "print(\"Acurácia:\", accuracy_score(y_test, y_pred))\n"
      ],
      "metadata": {
        "colab": {
          "base_uri": "https://localhost:8080/"
        },
        "id": "tW5HrDxLu4Tm",
        "outputId": "1bd6ba00-a10c-4e35-e2f9-8658245adfb5"
      },
      "execution_count": 9,
      "outputs": [
        {
          "output_type": "stream",
          "name": "stdout",
          "text": [
            "Fitting 5 folds for each of 648 candidates, totalling 3240 fits\n",
            "Melhores parâmetros: {'bootstrap': True, 'max_depth': 3, 'max_features': 'sqrt', 'min_samples_leaf': 1, 'min_samples_split': 10, 'n_estimators': 100}\n",
            "Acurácia: 1.0\n"
          ]
        },
        {
          "output_type": "stream",
          "name": "stderr",
          "text": [
            "/usr/local/lib/python3.11/dist-packages/sklearn/model_selection/_validation.py:528: FitFailedWarning: \n",
            "1080 fits failed out of a total of 3240.\n",
            "The score on these train-test partitions for these parameters will be set to nan.\n",
            "If these failures are not expected, you can try to debug them by setting error_score='raise'.\n",
            "\n",
            "Below are more details about the failures:\n",
            "--------------------------------------------------------------------------------\n",
            "427 fits failed with the following error:\n",
            "Traceback (most recent call last):\n",
            "  File \"/usr/local/lib/python3.11/dist-packages/sklearn/model_selection/_validation.py\", line 866, in _fit_and_score\n",
            "    estimator.fit(X_train, y_train, **fit_params)\n",
            "  File \"/usr/local/lib/python3.11/dist-packages/sklearn/base.py\", line 1382, in wrapper\n",
            "    estimator._validate_params()\n",
            "  File \"/usr/local/lib/python3.11/dist-packages/sklearn/base.py\", line 436, in _validate_params\n",
            "    validate_parameter_constraints(\n",
            "  File \"/usr/local/lib/python3.11/dist-packages/sklearn/utils/_param_validation.py\", line 98, in validate_parameter_constraints\n",
            "    raise InvalidParameterError(\n",
            "sklearn.utils._param_validation.InvalidParameterError: The 'max_features' parameter of RandomForestClassifier must be an int in the range [1, inf), a float in the range (0.0, 1.0], a str among {'log2', 'sqrt'} or None. Got 'auto' instead.\n",
            "\n",
            "--------------------------------------------------------------------------------\n",
            "653 fits failed with the following error:\n",
            "Traceback (most recent call last):\n",
            "  File \"/usr/local/lib/python3.11/dist-packages/sklearn/model_selection/_validation.py\", line 866, in _fit_and_score\n",
            "    estimator.fit(X_train, y_train, **fit_params)\n",
            "  File \"/usr/local/lib/python3.11/dist-packages/sklearn/base.py\", line 1382, in wrapper\n",
            "    estimator._validate_params()\n",
            "  File \"/usr/local/lib/python3.11/dist-packages/sklearn/base.py\", line 436, in _validate_params\n",
            "    validate_parameter_constraints(\n",
            "  File \"/usr/local/lib/python3.11/dist-packages/sklearn/utils/_param_validation.py\", line 98, in validate_parameter_constraints\n",
            "    raise InvalidParameterError(\n",
            "sklearn.utils._param_validation.InvalidParameterError: The 'max_features' parameter of RandomForestClassifier must be an int in the range [1, inf), a float in the range (0.0, 1.0], a str among {'sqrt', 'log2'} or None. Got 'auto' instead.\n",
            "\n",
            "  warnings.warn(some_fits_failed_message, FitFailedWarning)\n",
            "/usr/local/lib/python3.11/dist-packages/sklearn/model_selection/_search.py:1108: UserWarning: One or more of the test scores are non-finite: [       nan        nan        nan        nan        nan        nan\n",
            "        nan        nan        nan        nan        nan        nan\n",
            "        nan        nan        nan        nan        nan        nan\n",
            "        nan        nan        nan        nan        nan        nan\n",
            "        nan        nan        nan 0.95494071 0.9458498  0.95494071\n",
            " 0.95494071 0.95454545 0.95494071 0.95494071 0.96363636 0.95494071\n",
            " 0.95454545 0.95454545 0.9458498  0.95454545 0.95454545 0.9458498\n",
            " 0.95454545 0.95454545 0.9458498  0.94624506 0.95454545 0.9458498\n",
            " 0.94624506 0.95454545 0.9458498  0.95494071 0.95454545 0.9458498\n",
            " 0.95494071 0.9458498  0.95494071 0.95494071 0.95454545 0.95494071\n",
            " 0.95494071 0.96363636 0.95494071 0.95454545 0.95454545 0.9458498\n",
            " 0.95454545 0.95454545 0.9458498  0.95454545 0.95454545 0.9458498\n",
            " 0.94624506 0.95454545 0.9458498  0.94624506 0.95454545 0.9458498\n",
            " 0.95494071 0.95454545 0.9458498         nan        nan        nan\n",
            "        nan        nan        nan        nan        nan        nan\n",
            "        nan        nan        nan        nan        nan        nan\n",
            "        nan        nan        nan        nan        nan        nan\n",
            "        nan        nan        nan        nan        nan        nan\n",
            " 0.9458498  0.9458498  0.9458498  0.9458498  0.9458498  0.9458498\n",
            " 0.95494071 0.95454545 0.95494071 0.9458498  0.94545455 0.9458498\n",
            " 0.93675889 0.95454545 0.9458498  0.9458498  0.95454545 0.95454545\n",
            " 0.9458498  0.95454545 0.9458498  0.9458498  0.95454545 0.9458498\n",
            " 0.9458498  0.95454545 0.9458498  0.9458498  0.9458498  0.9458498\n",
            " 0.9458498  0.9458498  0.9458498  0.95494071 0.95454545 0.95494071\n",
            " 0.9458498  0.94545455 0.9458498  0.93675889 0.95454545 0.9458498\n",
            " 0.9458498  0.95454545 0.95454545 0.9458498  0.95454545 0.9458498\n",
            " 0.9458498  0.95454545 0.9458498  0.9458498  0.95454545 0.9458498\n",
            "        nan        nan        nan        nan        nan        nan\n",
            "        nan        nan        nan        nan        nan        nan\n",
            "        nan        nan        nan        nan        nan        nan\n",
            "        nan        nan        nan        nan        nan        nan\n",
            "        nan        nan        nan 0.93715415 0.9458498  0.9458498\n",
            " 0.9458498  0.9458498  0.9458498  0.95494071 0.9458498  0.95494071\n",
            " 0.9458498  0.95454545 0.9458498  0.9458498  0.95454545 0.95454545\n",
            " 0.9458498  0.95454545 0.95454545 0.9458498  0.95454545 0.9458498\n",
            " 0.9458498  0.95454545 0.9458498  0.9458498  0.95454545 0.9458498\n",
            " 0.93715415 0.9458498  0.9458498  0.9458498  0.9458498  0.9458498\n",
            " 0.95494071 0.9458498  0.95494071 0.9458498  0.95454545 0.9458498\n",
            " 0.9458498  0.95454545 0.95454545 0.9458498  0.95454545 0.95454545\n",
            " 0.9458498  0.95454545 0.9458498  0.9458498  0.95454545 0.9458498\n",
            " 0.9458498  0.95454545 0.9458498         nan        nan        nan\n",
            "        nan        nan        nan        nan        nan        nan\n",
            "        nan        nan        nan        nan        nan        nan\n",
            "        nan        nan        nan        nan        nan        nan\n",
            "        nan        nan        nan        nan        nan        nan\n",
            " 0.93715415 0.9458498  0.9458498  0.9458498  0.9458498  0.9458498\n",
            " 0.95494071 0.9458498  0.95494071 0.9458498  0.95454545 0.9458498\n",
            " 0.9458498  0.95454545 0.95454545 0.9458498  0.95454545 0.95454545\n",
            " 0.9458498  0.95454545 0.9458498  0.9458498  0.95454545 0.9458498\n",
            " 0.9458498  0.95454545 0.9458498  0.93715415 0.9458498  0.9458498\n",
            " 0.9458498  0.9458498  0.9458498  0.95494071 0.9458498  0.95494071\n",
            " 0.9458498  0.95454545 0.9458498  0.9458498  0.95454545 0.95454545\n",
            " 0.9458498  0.95454545 0.95454545 0.9458498  0.95454545 0.9458498\n",
            " 0.9458498  0.95454545 0.9458498  0.9458498  0.95454545 0.9458498\n",
            "        nan        nan        nan        nan        nan        nan\n",
            "        nan        nan        nan        nan        nan        nan\n",
            "        nan        nan        nan        nan        nan        nan\n",
            "        nan        nan        nan        nan        nan        nan\n",
            "        nan        nan        nan 0.94624506 0.94624506 0.93715415\n",
            " 0.94624506 0.94624506 0.93715415 0.94624506 0.94624506 0.94624506\n",
            " 0.93715415 0.93715415 0.93715415 0.93715415 0.93715415 0.93715415\n",
            " 0.94624506 0.94624506 0.93715415 0.93715415 0.93715415 0.93715415\n",
            " 0.93715415 0.93715415 0.93715415 0.93715415 0.93715415 0.93715415\n",
            " 0.94624506 0.94624506 0.93715415 0.94624506 0.94624506 0.93715415\n",
            " 0.94624506 0.94624506 0.94624506 0.93715415 0.93715415 0.93715415\n",
            " 0.93715415 0.93715415 0.93715415 0.94624506 0.94624506 0.93715415\n",
            " 0.93715415 0.93715415 0.93715415 0.93715415 0.93715415 0.93715415\n",
            " 0.93715415 0.93715415 0.93715415        nan        nan        nan\n",
            "        nan        nan        nan        nan        nan        nan\n",
            "        nan        nan        nan        nan        nan        nan\n",
            "        nan        nan        nan        nan        nan        nan\n",
            "        nan        nan        nan        nan        nan        nan\n",
            " 0.9458498  0.9458498  0.9458498  0.93675889 0.93675889 0.93675889\n",
            " 0.95494071 0.9458498  0.9458498  0.93675889 0.93675889 0.93675889\n",
            " 0.93675889 0.93675889 0.9458498  0.9458498  0.95494071 0.95494071\n",
            " 0.9458498  0.9458498  0.93715415 0.9458498  0.9458498  0.93715415\n",
            " 0.9458498  0.9458498  0.9458498  0.9458498  0.9458498  0.9458498\n",
            " 0.93675889 0.93675889 0.93675889 0.95494071 0.9458498  0.9458498\n",
            " 0.93675889 0.93675889 0.93675889 0.93675889 0.93675889 0.9458498\n",
            " 0.9458498  0.95494071 0.95494071 0.9458498  0.9458498  0.93715415\n",
            " 0.9458498  0.9458498  0.93715415 0.9458498  0.9458498  0.9458498\n",
            "        nan        nan        nan        nan        nan        nan\n",
            "        nan        nan        nan        nan        nan        nan\n",
            "        nan        nan        nan        nan        nan        nan\n",
            "        nan        nan        nan        nan        nan        nan\n",
            "        nan        nan        nan 0.9458498  0.9458498  0.9458498\n",
            " 0.93675889 0.93675889 0.93675889 0.95494071 0.9458498  0.9458498\n",
            " 0.93675889 0.9458498  0.93675889 0.93675889 0.9458498  0.9458498\n",
            " 0.9458498  0.95494071 0.95494071 0.9458498  0.9458498  0.93715415\n",
            " 0.9458498  0.9458498  0.93715415 0.9458498  0.9458498  0.9458498\n",
            " 0.9458498  0.9458498  0.9458498  0.93675889 0.93675889 0.93675889\n",
            " 0.95494071 0.9458498  0.9458498  0.93675889 0.9458498  0.93675889\n",
            " 0.93675889 0.9458498  0.9458498  0.9458498  0.95494071 0.95494071\n",
            " 0.9458498  0.9458498  0.93715415 0.9458498  0.9458498  0.93715415\n",
            " 0.9458498  0.9458498  0.9458498         nan        nan        nan\n",
            "        nan        nan        nan        nan        nan        nan\n",
            "        nan        nan        nan        nan        nan        nan\n",
            "        nan        nan        nan        nan        nan        nan\n",
            "        nan        nan        nan        nan        nan        nan\n",
            " 0.9458498  0.9458498  0.9458498  0.93675889 0.93675889 0.93675889\n",
            " 0.95494071 0.9458498  0.9458498  0.93675889 0.9458498  0.93675889\n",
            " 0.93675889 0.9458498  0.9458498  0.9458498  0.95494071 0.95494071\n",
            " 0.9458498  0.9458498  0.93715415 0.9458498  0.9458498  0.93715415\n",
            " 0.9458498  0.9458498  0.9458498  0.9458498  0.9458498  0.9458498\n",
            " 0.93675889 0.93675889 0.93675889 0.95494071 0.9458498  0.9458498\n",
            " 0.93675889 0.9458498  0.93675889 0.93675889 0.9458498  0.9458498\n",
            " 0.9458498  0.95494071 0.95494071 0.9458498  0.9458498  0.93715415\n",
            " 0.9458498  0.9458498  0.93715415 0.9458498  0.9458498  0.9458498 ]\n",
            "  warnings.warn(\n"
          ]
        }
      ]
    }
  ]
}