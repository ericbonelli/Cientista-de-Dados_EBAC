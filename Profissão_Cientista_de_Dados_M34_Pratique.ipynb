{
  "cells": [
    {
      "cell_type": "markdown",
      "metadata": {
        "id": "view-in-github",
        "colab_type": "text"
      },
      "source": [
        "<a href=\"https://colab.research.google.com/github/ericbonelli/Cientista-de-Dados_EBAC/blob/main/Profissa%CC%83o_Cientista_de_Dados_M34_Pratique.ipynb\" target=\"_parent\"><img src=\"https://colab.research.google.com/assets/colab-badge.svg\" alt=\"Open In Colab\"/></a>"
      ]
    },
    {
      "cell_type": "markdown",
      "metadata": {
        "id": "v3hh26rzllBG"
      },
      "source": [
        "# Regressão III - Tarefa"
      ]
    },
    {
      "cell_type": "code",
      "execution_count": 20,
      "metadata": {
        "id": "WHA7qePZllBJ"
      },
      "outputs": [],
      "source": [
        "import pandas as pd\n",
        "import numpy as np\n",
        "import seaborn as sns\n",
        "import matplotlib.pyplot as plt\n",
        "from sklearn.linear_model import LinearRegression\n",
        "from sklearn.metrics import r2_score\n",
        "import statsmodels.formula.api as smf\n",
        "import statsmodels.api as sm\n",
        "from scipy.interpolate import interp1d\n",
        "import statsmodels.nonparametric.api as sm_nonparametric\n",
        "from statsmodels.nonparametric.smoothers_lowess import lowess\n",
        "from sklearn.ensemble import RandomForestRegressor\n"
      ]
    },
    {
      "cell_type": "code",
      "execution_count": 2,
      "metadata": {
        "colab": {
          "base_uri": "https://localhost:8080/"
        },
        "id": "n1PpRRdimZi3",
        "outputId": "f62564bf-cd63-4289-ce23-9d6164d76e55"
      },
      "outputs": [
        {
          "output_type": "stream",
          "name": "stdout",
          "text": [
            "Mounted at /content/drive\n"
          ]
        }
      ],
      "source": [
        "from google.colab import drive\n",
        "drive.mount('/content/drive')"
      ]
    },
    {
      "cell_type": "code",
      "execution_count": 3,
      "metadata": {
        "colab": {
          "base_uri": "https://localhost:8080/",
          "height": 344
        },
        "id": "UwcAcifdllBP",
        "outputId": "f9ab3c6f-2b66-4c7b-883e-eb7e1bd8f028"
      },
      "outputs": [
        {
          "output_type": "execute_result",
          "data": {
            "text/plain": [
              "         data_ref sexo posse_de_veiculo posse_de_imovel  qtd_filhos  \\\n",
              "index                                                                 \n",
              "5762   2015-01-01    M                S               N           0   \n",
              "1279   2015-01-01    M                S               N           0   \n",
              "14111  2015-01-01    M                S               N           0   \n",
              "8189   2015-01-01    M                N               S           2   \n",
              "1830   2015-01-01    F                N               S           2   \n",
              "\n",
              "        tipo_renda             educacao estado_civil tipo_residencia  idade  \\\n",
              "index                                                                         \n",
              "5762    Empresário    Superior completo       Casado            Casa     47   \n",
              "1279   Assalariado  Superior incompleto       Casado            Casa     30   \n",
              "14111  Assalariado    Superior completo       Casado            Casa     28   \n",
              "8189   Assalariado                Médio       Casado            Casa     44   \n",
              "1830   Assalariado    Superior completo       Casado            Casa     33   \n",
              "\n",
              "       tempo_emprego  qt_pessoas_residencia     renda  \n",
              "index                                                  \n",
              "5762       16.717808                    2.0  11138.14  \n",
              "1279        9.600000                    2.0   2424.81  \n",
              "14111       8.208219                    2.0  13749.66  \n",
              "8189        1.301370                    4.0   2361.84  \n",
              "1830        1.254795                    4.0    790.78  "
            ],
            "text/html": [
              "\n",
              "  <div id=\"df-9170153b-ff4c-45ab-8182-32aa21da7e44\" class=\"colab-df-container\">\n",
              "    <div>\n",
              "<style scoped>\n",
              "    .dataframe tbody tr th:only-of-type {\n",
              "        vertical-align: middle;\n",
              "    }\n",
              "\n",
              "    .dataframe tbody tr th {\n",
              "        vertical-align: top;\n",
              "    }\n",
              "\n",
              "    .dataframe thead th {\n",
              "        text-align: right;\n",
              "    }\n",
              "</style>\n",
              "<table border=\"1\" class=\"dataframe\">\n",
              "  <thead>\n",
              "    <tr style=\"text-align: right;\">\n",
              "      <th></th>\n",
              "      <th>data_ref</th>\n",
              "      <th>sexo</th>\n",
              "      <th>posse_de_veiculo</th>\n",
              "      <th>posse_de_imovel</th>\n",
              "      <th>qtd_filhos</th>\n",
              "      <th>tipo_renda</th>\n",
              "      <th>educacao</th>\n",
              "      <th>estado_civil</th>\n",
              "      <th>tipo_residencia</th>\n",
              "      <th>idade</th>\n",
              "      <th>tempo_emprego</th>\n",
              "      <th>qt_pessoas_residencia</th>\n",
              "      <th>renda</th>\n",
              "    </tr>\n",
              "    <tr>\n",
              "      <th>index</th>\n",
              "      <th></th>\n",
              "      <th></th>\n",
              "      <th></th>\n",
              "      <th></th>\n",
              "      <th></th>\n",
              "      <th></th>\n",
              "      <th></th>\n",
              "      <th></th>\n",
              "      <th></th>\n",
              "      <th></th>\n",
              "      <th></th>\n",
              "      <th></th>\n",
              "      <th></th>\n",
              "    </tr>\n",
              "  </thead>\n",
              "  <tbody>\n",
              "    <tr>\n",
              "      <th>5762</th>\n",
              "      <td>2015-01-01</td>\n",
              "      <td>M</td>\n",
              "      <td>S</td>\n",
              "      <td>N</td>\n",
              "      <td>0</td>\n",
              "      <td>Empresário</td>\n",
              "      <td>Superior completo</td>\n",
              "      <td>Casado</td>\n",
              "      <td>Casa</td>\n",
              "      <td>47</td>\n",
              "      <td>16.717808</td>\n",
              "      <td>2.0</td>\n",
              "      <td>11138.14</td>\n",
              "    </tr>\n",
              "    <tr>\n",
              "      <th>1279</th>\n",
              "      <td>2015-01-01</td>\n",
              "      <td>M</td>\n",
              "      <td>S</td>\n",
              "      <td>N</td>\n",
              "      <td>0</td>\n",
              "      <td>Assalariado</td>\n",
              "      <td>Superior incompleto</td>\n",
              "      <td>Casado</td>\n",
              "      <td>Casa</td>\n",
              "      <td>30</td>\n",
              "      <td>9.600000</td>\n",
              "      <td>2.0</td>\n",
              "      <td>2424.81</td>\n",
              "    </tr>\n",
              "    <tr>\n",
              "      <th>14111</th>\n",
              "      <td>2015-01-01</td>\n",
              "      <td>M</td>\n",
              "      <td>S</td>\n",
              "      <td>N</td>\n",
              "      <td>0</td>\n",
              "      <td>Assalariado</td>\n",
              "      <td>Superior completo</td>\n",
              "      <td>Casado</td>\n",
              "      <td>Casa</td>\n",
              "      <td>28</td>\n",
              "      <td>8.208219</td>\n",
              "      <td>2.0</td>\n",
              "      <td>13749.66</td>\n",
              "    </tr>\n",
              "    <tr>\n",
              "      <th>8189</th>\n",
              "      <td>2015-01-01</td>\n",
              "      <td>M</td>\n",
              "      <td>N</td>\n",
              "      <td>S</td>\n",
              "      <td>2</td>\n",
              "      <td>Assalariado</td>\n",
              "      <td>Médio</td>\n",
              "      <td>Casado</td>\n",
              "      <td>Casa</td>\n",
              "      <td>44</td>\n",
              "      <td>1.301370</td>\n",
              "      <td>4.0</td>\n",
              "      <td>2361.84</td>\n",
              "    </tr>\n",
              "    <tr>\n",
              "      <th>1830</th>\n",
              "      <td>2015-01-01</td>\n",
              "      <td>F</td>\n",
              "      <td>N</td>\n",
              "      <td>S</td>\n",
              "      <td>2</td>\n",
              "      <td>Assalariado</td>\n",
              "      <td>Superior completo</td>\n",
              "      <td>Casado</td>\n",
              "      <td>Casa</td>\n",
              "      <td>33</td>\n",
              "      <td>1.254795</td>\n",
              "      <td>4.0</td>\n",
              "      <td>790.78</td>\n",
              "    </tr>\n",
              "  </tbody>\n",
              "</table>\n",
              "</div>\n",
              "    <div class=\"colab-df-buttons\">\n",
              "\n",
              "  <div class=\"colab-df-container\">\n",
              "    <button class=\"colab-df-convert\" onclick=\"convertToInteractive('df-9170153b-ff4c-45ab-8182-32aa21da7e44')\"\n",
              "            title=\"Convert this dataframe to an interactive table.\"\n",
              "            style=\"display:none;\">\n",
              "\n",
              "  <svg xmlns=\"http://www.w3.org/2000/svg\" height=\"24px\" viewBox=\"0 -960 960 960\">\n",
              "    <path d=\"M120-120v-720h720v720H120Zm60-500h600v-160H180v160Zm220 220h160v-160H400v160Zm0 220h160v-160H400v160ZM180-400h160v-160H180v160Zm440 0h160v-160H620v160ZM180-180h160v-160H180v160Zm440 0h160v-160H620v160Z\"/>\n",
              "  </svg>\n",
              "    </button>\n",
              "\n",
              "  <style>\n",
              "    .colab-df-container {\n",
              "      display:flex;\n",
              "      gap: 12px;\n",
              "    }\n",
              "\n",
              "    .colab-df-convert {\n",
              "      background-color: #E8F0FE;\n",
              "      border: none;\n",
              "      border-radius: 50%;\n",
              "      cursor: pointer;\n",
              "      display: none;\n",
              "      fill: #1967D2;\n",
              "      height: 32px;\n",
              "      padding: 0 0 0 0;\n",
              "      width: 32px;\n",
              "    }\n",
              "\n",
              "    .colab-df-convert:hover {\n",
              "      background-color: #E2EBFA;\n",
              "      box-shadow: 0px 1px 2px rgba(60, 64, 67, 0.3), 0px 1px 3px 1px rgba(60, 64, 67, 0.15);\n",
              "      fill: #174EA6;\n",
              "    }\n",
              "\n",
              "    .colab-df-buttons div {\n",
              "      margin-bottom: 4px;\n",
              "    }\n",
              "\n",
              "    [theme=dark] .colab-df-convert {\n",
              "      background-color: #3B4455;\n",
              "      fill: #D2E3FC;\n",
              "    }\n",
              "\n",
              "    [theme=dark] .colab-df-convert:hover {\n",
              "      background-color: #434B5C;\n",
              "      box-shadow: 0px 1px 3px 1px rgba(0, 0, 0, 0.15);\n",
              "      filter: drop-shadow(0px 1px 2px rgba(0, 0, 0, 0.3));\n",
              "      fill: #FFFFFF;\n",
              "    }\n",
              "  </style>\n",
              "\n",
              "    <script>\n",
              "      const buttonEl =\n",
              "        document.querySelector('#df-9170153b-ff4c-45ab-8182-32aa21da7e44 button.colab-df-convert');\n",
              "      buttonEl.style.display =\n",
              "        google.colab.kernel.accessAllowed ? 'block' : 'none';\n",
              "\n",
              "      async function convertToInteractive(key) {\n",
              "        const element = document.querySelector('#df-9170153b-ff4c-45ab-8182-32aa21da7e44');\n",
              "        const dataTable =\n",
              "          await google.colab.kernel.invokeFunction('convertToInteractive',\n",
              "                                                    [key], {});\n",
              "        if (!dataTable) return;\n",
              "\n",
              "        const docLinkHtml = 'Like what you see? Visit the ' +\n",
              "          '<a target=\"_blank\" href=https://colab.research.google.com/notebooks/data_table.ipynb>data table notebook</a>'\n",
              "          + ' to learn more about interactive tables.';\n",
              "        element.innerHTML = '';\n",
              "        dataTable['output_type'] = 'display_data';\n",
              "        await google.colab.output.renderOutput(dataTable, element);\n",
              "        const docLink = document.createElement('div');\n",
              "        docLink.innerHTML = docLinkHtml;\n",
              "        element.appendChild(docLink);\n",
              "      }\n",
              "    </script>\n",
              "  </div>\n",
              "\n",
              "\n",
              "    <div id=\"df-65a133d0-2fe7-4b72-93b2-2a0ad07529ff\">\n",
              "      <button class=\"colab-df-quickchart\" onclick=\"quickchart('df-65a133d0-2fe7-4b72-93b2-2a0ad07529ff')\"\n",
              "                title=\"Suggest charts\"\n",
              "                style=\"display:none;\">\n",
              "\n",
              "<svg xmlns=\"http://www.w3.org/2000/svg\" height=\"24px\"viewBox=\"0 0 24 24\"\n",
              "     width=\"24px\">\n",
              "    <g>\n",
              "        <path d=\"M19 3H5c-1.1 0-2 .9-2 2v14c0 1.1.9 2 2 2h14c1.1 0 2-.9 2-2V5c0-1.1-.9-2-2-2zM9 17H7v-7h2v7zm4 0h-2V7h2v10zm4 0h-2v-4h2v4z\"/>\n",
              "    </g>\n",
              "</svg>\n",
              "      </button>\n",
              "\n",
              "<style>\n",
              "  .colab-df-quickchart {\n",
              "      --bg-color: #E8F0FE;\n",
              "      --fill-color: #1967D2;\n",
              "      --hover-bg-color: #E2EBFA;\n",
              "      --hover-fill-color: #174EA6;\n",
              "      --disabled-fill-color: #AAA;\n",
              "      --disabled-bg-color: #DDD;\n",
              "  }\n",
              "\n",
              "  [theme=dark] .colab-df-quickchart {\n",
              "      --bg-color: #3B4455;\n",
              "      --fill-color: #D2E3FC;\n",
              "      --hover-bg-color: #434B5C;\n",
              "      --hover-fill-color: #FFFFFF;\n",
              "      --disabled-bg-color: #3B4455;\n",
              "      --disabled-fill-color: #666;\n",
              "  }\n",
              "\n",
              "  .colab-df-quickchart {\n",
              "    background-color: var(--bg-color);\n",
              "    border: none;\n",
              "    border-radius: 50%;\n",
              "    cursor: pointer;\n",
              "    display: none;\n",
              "    fill: var(--fill-color);\n",
              "    height: 32px;\n",
              "    padding: 0;\n",
              "    width: 32px;\n",
              "  }\n",
              "\n",
              "  .colab-df-quickchart:hover {\n",
              "    background-color: var(--hover-bg-color);\n",
              "    box-shadow: 0 1px 2px rgba(60, 64, 67, 0.3), 0 1px 3px 1px rgba(60, 64, 67, 0.15);\n",
              "    fill: var(--button-hover-fill-color);\n",
              "  }\n",
              "\n",
              "  .colab-df-quickchart-complete:disabled,\n",
              "  .colab-df-quickchart-complete:disabled:hover {\n",
              "    background-color: var(--disabled-bg-color);\n",
              "    fill: var(--disabled-fill-color);\n",
              "    box-shadow: none;\n",
              "  }\n",
              "\n",
              "  .colab-df-spinner {\n",
              "    border: 2px solid var(--fill-color);\n",
              "    border-color: transparent;\n",
              "    border-bottom-color: var(--fill-color);\n",
              "    animation:\n",
              "      spin 1s steps(1) infinite;\n",
              "  }\n",
              "\n",
              "  @keyframes spin {\n",
              "    0% {\n",
              "      border-color: transparent;\n",
              "      border-bottom-color: var(--fill-color);\n",
              "      border-left-color: var(--fill-color);\n",
              "    }\n",
              "    20% {\n",
              "      border-color: transparent;\n",
              "      border-left-color: var(--fill-color);\n",
              "      border-top-color: var(--fill-color);\n",
              "    }\n",
              "    30% {\n",
              "      border-color: transparent;\n",
              "      border-left-color: var(--fill-color);\n",
              "      border-top-color: var(--fill-color);\n",
              "      border-right-color: var(--fill-color);\n",
              "    }\n",
              "    40% {\n",
              "      border-color: transparent;\n",
              "      border-right-color: var(--fill-color);\n",
              "      border-top-color: var(--fill-color);\n",
              "    }\n",
              "    60% {\n",
              "      border-color: transparent;\n",
              "      border-right-color: var(--fill-color);\n",
              "    }\n",
              "    80% {\n",
              "      border-color: transparent;\n",
              "      border-right-color: var(--fill-color);\n",
              "      border-bottom-color: var(--fill-color);\n",
              "    }\n",
              "    90% {\n",
              "      border-color: transparent;\n",
              "      border-bottom-color: var(--fill-color);\n",
              "    }\n",
              "  }\n",
              "</style>\n",
              "\n",
              "      <script>\n",
              "        async function quickchart(key) {\n",
              "          const quickchartButtonEl =\n",
              "            document.querySelector('#' + key + ' button');\n",
              "          quickchartButtonEl.disabled = true;  // To prevent multiple clicks.\n",
              "          quickchartButtonEl.classList.add('colab-df-spinner');\n",
              "          try {\n",
              "            const charts = await google.colab.kernel.invokeFunction(\n",
              "                'suggestCharts', [key], {});\n",
              "          } catch (error) {\n",
              "            console.error('Error during call to suggestCharts:', error);\n",
              "          }\n",
              "          quickchartButtonEl.classList.remove('colab-df-spinner');\n",
              "          quickchartButtonEl.classList.add('colab-df-quickchart-complete');\n",
              "        }\n",
              "        (() => {\n",
              "          let quickchartButtonEl =\n",
              "            document.querySelector('#df-65a133d0-2fe7-4b72-93b2-2a0ad07529ff button');\n",
              "          quickchartButtonEl.style.display =\n",
              "            google.colab.kernel.accessAllowed ? 'block' : 'none';\n",
              "        })();\n",
              "      </script>\n",
              "    </div>\n",
              "\n",
              "    </div>\n",
              "  </div>\n"
            ],
            "application/vnd.google.colaboratory.intrinsic+json": {
              "type": "dataframe",
              "variable_name": "df"
            }
          },
          "metadata": {},
          "execution_count": 3
        }
      ],
      "source": [
        "df = pd.read_csv('/content/drive/MyDrive/Especialização em IA/Cientista de Dados - Ebac/Modelagem estatística e Regressão com Python/Regressão III/previsao_de_renda_II.csv', index_col=1)\n",
        "df.head()"
      ]
    },
    {
      "cell_type": "markdown",
      "metadata": {
        "id": "9NJxEin5llBT"
      },
      "source": [
        "## Avalie valores missing e substitua pela média\n",
        "\n",
        "Neste exercício não vamos nos preocupar com valores *missing*. Substitua-os pela média."
      ]
    },
    {
      "cell_type": "code",
      "execution_count": 4,
      "metadata": {
        "colab": {
          "base_uri": "https://localhost:8080/"
        },
        "id": "lw61ex7RGGTi",
        "outputId": "d757cd81-61d3-4bfa-c56c-75f6519aae30"
      },
      "outputs": [
        {
          "output_type": "stream",
          "name": "stdout",
          "text": [
            "Valores missing antes:\n",
            "data_ref                      0\n",
            "sexo                          0\n",
            "posse_de_veiculo              0\n",
            "posse_de_imovel               0\n",
            "qtd_filhos                    0\n",
            "tipo_renda                    0\n",
            "educacao                      0\n",
            "estado_civil                  0\n",
            "tipo_residencia               0\n",
            "idade                         0\n",
            "tempo_emprego            125760\n",
            "qt_pessoas_residencia         0\n",
            "renda                         0\n",
            "dtype: int64\n"
          ]
        }
      ],
      "source": [
        "# Visualizar a quantidade de valores missing antes da substituição\n",
        "print(\"Valores missing antes:\")\n",
        "print(df.isnull().sum())"
      ]
    },
    {
      "cell_type": "code",
      "execution_count": 5,
      "metadata": {
        "id": "cl3WWrLDESQy"
      },
      "outputs": [],
      "source": [
        "df_limpo = df.fillna(df.mean(numeric_only=True))"
      ]
    },
    {
      "cell_type": "code",
      "execution_count": 6,
      "metadata": {
        "colab": {
          "base_uri": "https://localhost:8080/"
        },
        "id": "zKsSOpgjHipY",
        "outputId": "9b9a86f0-4e6d-4a1f-ecaa-baaae3c019f9"
      },
      "outputs": [
        {
          "output_type": "stream",
          "name": "stdout",
          "text": [
            "\n",
            "Valores missing depois:\n",
            "data_ref                 0\n",
            "sexo                     0\n",
            "posse_de_veiculo         0\n",
            "posse_de_imovel          0\n",
            "qtd_filhos               0\n",
            "tipo_renda               0\n",
            "educacao                 0\n",
            "estado_civil             0\n",
            "tipo_residencia          0\n",
            "idade                    0\n",
            "tempo_emprego            0\n",
            "qt_pessoas_residencia    0\n",
            "renda                    0\n",
            "dtype: int64\n"
          ]
        }
      ],
      "source": [
        "# Visualizar a quantidade de valores missing após a substituição\n",
        "print(\"\\nValores missing depois:\")\n",
        "print(df_limpo.isnull().sum())"
      ]
    },
    {
      "cell_type": "markdown",
      "metadata": {
        "id": "eVu0HZmillBe"
      },
      "source": [
        "### Base de testes\n",
        "\n",
        "Separe os três últimos meses como base *holdout* (base de teste)."
      ]
    },
    {
      "cell_type": "code",
      "execution_count": 7,
      "metadata": {
        "colab": {
          "base_uri": "https://localhost:8080/"
        },
        "id": "86JTcALRllBj",
        "outputId": "0c1b18e4-66e7-4c88-fed0-e297e219b2e3"
      },
      "outputs": [
        {
          "output_type": "stream",
          "name": "stdout",
          "text": [
            "Shape treino: (600000, 13)\n",
            "Shape holdout: (150000, 13)\n"
          ]
        }
      ],
      "source": [
        "df_limpo['data_ref'] = pd.to_datetime(df_limpo['data_ref'])\n",
        "\n",
        "# Encontrar os três últimos meses\n",
        "ultimos_meses = df_limpo['data_ref'].dt.to_period('M').sort_values().unique()[-3:]\n",
        "\n",
        "# Base holdout (teste)\n",
        "df_holdout = df_limpo[df_limpo['data_ref'].dt.to_period('M').isin(ultimos_meses)].copy()\n",
        "\n",
        "# Base de treino\n",
        "df_treino = df_limpo[~df_limpo['data_ref'].dt.to_period('M').isin(ultimos_meses)].copy()\n",
        "\n",
        "print('Shape treino:', df_treino.shape)\n",
        "print('Shape holdout:', df_holdout.shape)"
      ]
    },
    {
      "cell_type": "markdown",
      "metadata": {
        "id": "APrEmx_OllBm"
      },
      "source": [
        "### Primeiro modelo\n",
        " Não use *index* e não use a data. Avalie o modelo com o $R^2-ajustado$"
      ]
    },
    {
      "cell_type": "code",
      "source": [
        "# modelo regressao com   𝑅2−𝑎𝑗𝑢𝑠𝑡𝑎𝑑𝑜\n",
        "modelo = smf.ols('renda ~ sexo + posse_de_veiculo + posse_de_imovel + qtd_filhos + tipo_renda + educacao + estado_civil + tipo_residencia + idade + tempo_emprego + qt_pessoas_residencia', data=df_treino).fit()\n",
        "r2_adj = modelo.rsquared_adj\n",
        "print(f'R2-ajustado: {r2_adj}')"
      ],
      "metadata": {
        "colab": {
          "base_uri": "https://localhost:8080/"
        },
        "id": "xYb1L-McKeN1",
        "outputId": "9c6f2dd0-c2d7-4145-efca-e027d1492ff5"
      },
      "execution_count": 26,
      "outputs": [
        {
          "output_type": "stream",
          "name": "stdout",
          "text": [
            "R2-ajustado: 0.2449965478623849\n"
          ]
        }
      ]
    },
    {
      "cell_type": "markdown",
      "metadata": {
        "id": "nhMkash0llBo"
      },
      "source": [
        "### Análise de perfil\n",
        "\n",
        "Categorize a variável ```tempo_emprego``` em 20 quantis (cada categoria deve ter aproximadamente a mesma quantidade de observações) e faça uma tabela de perfil (armazene como dataframe) para esta categorização:\n",
        "\n",
        "- Cada linha é uma categoria\n",
        "- Uma coluna para a quantidade de observações de cada categoria\n",
        "- Uma coluna para a média do log-renda para cada categoria\n",
        "- Uma coluna para a média do tempo de emprego para cada categoria\n",
        "\n",
        "Faça um gráfico da média do tempo de emprego pela média do log-renda. Insira uma célula de texto e comente se te parece que alguma das transformações vistas no módulo deve fornecer bons resultados."
      ]
    },
    {
      "cell_type": "code",
      "execution_count": 10,
      "metadata": {
        "colab": {
          "base_uri": "https://localhost:8080/"
        },
        "id": "Xeb52PIdllBp",
        "outputId": "b52d596a-179a-4ed0-e6d3-e12c52b5188b"
      },
      "outputs": [
        {
          "output_type": "stream",
          "name": "stdout",
          "text": [
            "   cat_tempo_emprego  qtde_obs  media_log_renda  media_tempo_emprego\n",
            "0                  0     37699         8.134693             0.515096\n",
            "1                  1     37522         8.215925             1.124770\n",
            "2                  2     37437         8.335011             1.783247\n",
            "3                  3     37391         8.390223             2.513020\n",
            "4                  4     37915         8.522387             3.300942\n"
          ]
        }
      ],
      "source": [
        "df_limpo['cat_tempo_emprego'] = pd.qcut(df_limpo['tempo_emprego'], 20, labels=False, duplicates='drop')\n",
        "\n",
        "df_limpo['log_renda'] = np.log(df_limpo['renda'])\n",
        "\n",
        "# Gerando o DataFrame de perfil\n",
        "perfil = df_limpo.groupby('cat_tempo_emprego').agg(\n",
        "    qtde_obs=('cat_tempo_emprego', 'size'),\n",
        "    media_log_renda=('log_renda', 'mean'),\n",
        "    media_tempo_emprego=('tempo_emprego', 'mean')\n",
        ").reset_index()\n",
        "\n",
        "print(perfil.head())"
      ]
    },
    {
      "cell_type": "code",
      "execution_count": 11,
      "metadata": {
        "colab": {
          "base_uri": "https://localhost:8080/",
          "height": 488
        },
        "id": "qPeHxzUlLaNK",
        "outputId": "c8583a75-930a-426d-af8d-e9b6bd2564fd"
      },
      "outputs": [
        {
          "output_type": "display_data",
          "data": {
            "text/plain": [
              "<Figure size 800x500 with 1 Axes>"
            ],
            "image/png": "[encoded data removed]"
          },
          "metadata": {}
        }
      ],
      "source": [
        "plt.figure(figsize=(8, 5))\n",
        "plt.plot(perfil['media_tempo_emprego'], perfil['media_log_renda'], marker='o')\n",
        "plt.xlabel('Média do tempo de emprego')\n",
        "plt.ylabel('Média do log-renda')\n",
        "plt.title('Perfil: Média do tempo de emprego vs. Média do log-renda')\n",
        "plt.grid()\n",
        "plt.show()"
      ]
    },
    {
      "cell_type": "markdown",
      "metadata": {
        "id": "EXk8au5CLv54"
      },
      "source": [
        "O gráfico mostra uma relação fortemente crescente e aproximadamente linear entre a média do tempo de emprego (em cada quantil) e a média do log-renda. Isso indica que:\n",
        "\n",
        "- Quanto maior o tempo de emprego, maior tende a ser a renda (no log).\n",
        "\n",
        "- A relação linear observada após a transformação logarítmica da renda sugere que a transformação log(renda) realmente melhora o ajuste e a interpretabilidade do modelo, tornando a relação entre as variáveis mais próxima de linear.\n",
        "\n",
        "\n",
        "**Conclusão:**\n",
        "\n",
        "Com base na análise do perfil, a transformação logarítmica na variável resposta é adequada e deve contribuir para modelos de regressão mais robustos e interpretáveis neste contexto.\n",
        "\n"
      ]
    },
    {
      "cell_type": "markdown",
      "metadata": {
        "id": "xWpu1mm7llBq"
      },
      "source": [
        "### Linearização\n",
        "\n",
        "Experimente pelo menos duas técnicas de linearização vistas ao longo do módulo para melhorar o ajuste da variável ```tempo_emprego```. Compare o $R^2-ajustado$ e avalie se alguma delas apresentou resultados relevantes com relação ao primeiro modelo.\n"
      ]
    },
    {
      "cell_type": "code",
      "execution_count": 32,
      "metadata": {
        "colab": {
          "base_uri": "https://localhost:8080/"
        },
        "id": "AuRkX26wTxMq",
        "outputId": "1ca368cb-af7e-40d6-9d77-a684763ab008"
      },
      "outputs": [
        {
          "output_type": "stream",
          "name": "stdout",
          "text": [
            "                            OLS Regression Results                            \n",
            "==============================================================================\n",
            "Dep. Variable:                  renda   R-squared:                       0.245\n",
            "Model:                            OLS   Adj. R-squared:                  0.245\n",
            "Method:                 Least Squares   F-statistic:                     4869.\n",
            "Date:                Mon, 16 Jun 2025   Prob (F-statistic):               0.00\n",
            "Time:                        14:50:45   Log-Likelihood:            -7.6744e+06\n",
            "No. Observations:              600000   AIC:                         1.535e+07\n",
            "Df Residuals:                  599959   BIC:                         1.535e+07\n",
            "Df Model:                          40                                         \n",
            "Covariance Type:            nonrobust                                         \n",
            "====================================================================================================\n",
            "                                       coef    std err          t      P>|t|      [0.025      0.975]\n",
            "----------------------------------------------------------------------------------------------------\n",
            "Intercept                        -5520.5501   4563.659     -1.210      0.226   -1.45e+04    3424.075\n",
            "C(tempo_emprego_cat)[T.1]         -399.5093    710.217     -0.563      0.574   -1791.512     992.494\n",
            "C(tempo_emprego_cat)[T.2]         1452.1596    711.389      2.041      0.041      57.860    2846.459\n",
            "C(tempo_emprego_cat)[T.3]         2069.5004    709.108      2.918      0.004     679.672    3459.329\n",
            "C(tempo_emprego_cat)[T.4]         2796.9028    707.302      3.954      0.000    1410.614    4183.191\n",
            "C(tempo_emprego_cat)[T.5]         3992.8812    712.059      5.608      0.000    2597.269    5388.493\n",
            "C(tempo_emprego_cat)[T.6]         4270.2296    708.574      6.027      0.000    2881.446    5659.013\n",
            "C(tempo_emprego_cat)[T.7]         5511.7026    708.994      7.774      0.000    4122.097    6901.308\n",
            "C(tempo_emprego_cat)[T.8]         6377.3680    709.890      8.984      0.000    4986.007    7768.729\n",
            "C(tempo_emprego_cat)[T.9]         7725.2861    711.171     10.863      0.000    6331.414    9119.159\n",
            "C(tempo_emprego_cat)[T.10]        7766.8748   1051.804      7.384      0.000    5705.374    9828.376\n",
            "C(tempo_emprego_cat)[T.11]        8295.1045    979.430      8.469      0.000    6375.453    1.02e+04\n",
            "C(tempo_emprego_cat)[T.12]        1.084e+04    711.460     15.231      0.000    9441.758    1.22e+04\n",
            "C(tempo_emprego_cat)[T.13]        1.419e+04    711.310     19.953      0.000    1.28e+04    1.56e+04\n",
            "C(tempo_emprego_cat)[T.14]        1.694e+04    715.793     23.663      0.000    1.55e+04    1.83e+04\n",
            "C(tempo_emprego_cat)[T.15]        2.767e+04    713.715     38.775      0.000    2.63e+04    2.91e+04\n",
            "C(tempo_emprego_cat)[T.16]        5.625e+04    717.364     78.417      0.000    5.48e+04    5.77e+04\n",
            "C(tempo_emprego_cat)[T.17]        2.201e+05    732.569    300.464      0.000    2.19e+05    2.22e+05\n",
            "sexo[T.M]                        -4199.9769    265.134    -15.841      0.000   -4719.630   -3680.324\n",
            "posse_de_veiculo[T.S]              455.6467    252.817      1.802      0.072     -39.867     951.160\n",
            "posse_de_imovel[T.S]              4517.4813    246.907     18.296      0.000    4033.552    5001.410\n",
            "tipo_renda[T.Bolsista]           -1.239e+04   5006.591     -2.475      0.013   -2.22e+04   -2577.950\n",
            "tipo_renda[T.Empresário]          1263.8475    284.585      4.441      0.000     706.069    1821.626\n",
            "tipo_renda[T.Pensionista]        -1.236e+04   1003.349    -12.320      0.000   -1.43e+04   -1.04e+04\n",
            "tipo_renda[T.Servidor público]    4926.6908    419.533     11.743      0.000    4104.419    5748.963\n",
            "educacao[T.Médio]                -3954.5962   1065.218     -3.712      0.000   -6042.389   -1866.804\n",
            "educacao[T.Pós graduação]        -1.046e+04   3634.248     -2.879      0.004   -1.76e+04   -3338.937\n",
            "educacao[T.Superior completo]      168.1625   1076.471      0.156      0.876   -1941.686    2278.011\n",
            "educacao[T.Superior incompleto]   3097.5398   1204.434      2.572      0.010     736.889    5458.191\n",
            "estado_civil[T.Separado]         -7063.3868   2186.752     -3.230      0.001   -1.13e+04   -2777.424\n",
            "estado_civil[T.Solteiro]          4436.1955   2145.690      2.067      0.039     230.712    8641.679\n",
            "estado_civil[T.União]             -418.0311    429.365     -0.974      0.330   -1259.572     423.510\n",
            "estado_civil[T.Viúvo]            -3948.8879   2209.996     -1.787      0.074   -8280.410     382.634\n",
            "tipo_residencia[T.Casa]          -1230.9594    968.695     -1.271      0.204   -3129.570     667.651\n",
            "tipo_residencia[T.Com os pais]   -2267.9026   1098.010     -2.065      0.039   -4419.967    -115.839\n",
            "tipo_residencia[T.Comunitário]   -1.452e+04   1959.993     -7.408      0.000   -1.84e+04   -1.07e+04\n",
            "tipo_residencia[T.Estúdio]        2102.9664   1635.933      1.285      0.199   -1103.410    5309.342\n",
            "tipo_residencia[T.Governamental] -5988.1240   1154.334     -5.188      0.000   -8250.581   -3725.667\n",
            "qtd_filhos                        3188.4382   2135.571      1.493      0.135    -997.212    7374.088\n",
            "idade                              495.3388     14.723     33.644      0.000     466.482     524.195\n",
            "qt_pessoas_residencia            -3025.7560   2131.103     -1.420      0.156   -7202.649    1151.137\n",
            "==============================================================================\n",
            "Omnibus:                  1438694.831   Durbin-Watson:                   1.946\n",
            "Prob(Omnibus):                  0.000   Jarque-Bera (JB):      30904622878.491\n",
            "Skew:                          24.555   Prob(JB):                         0.00\n",
            "Kurtosis:                    1113.753   Cond. No.                     2.63e+03\n",
            "==============================================================================\n",
            "\n",
            "Notes:\n",
            "[1] Standard Errors assume that the covariance matrix of the errors is correctly specified.\n",
            "[2] The condition number is large, 2.63e+03. This might indicate that there are\n",
            "strong multicollinearity or other numerical problems.\n",
            "Categorização (com variáveis) - R² ajustado holdout: -2.6713\n"
          ]
        }
      ],
      "source": [
        "# Categorização\n",
        "df_treino['tempo_emprego_cat'] = pd.qcut(df_treino['tempo_emprego'], 20, labels=False, duplicates='drop')\n",
        "df_holdout['tempo_emprego_cat'] = pd.qcut(df_holdout['tempo_emprego'], 20, labels=False, duplicates='drop')\n",
        "\n",
        "formula_cat = ('renda ~ C(tempo_emprego_cat) + sexo + posse_de_veiculo + posse_de_imovel + '\n",
        "               'qtd_filhos + tipo_renda + educacao + estado_civil + tipo_residencia + '\n",
        "               'idade + qt_pessoas_residencia')\n",
        "\n",
        "modelo_cat = smf.ols(formula_cat, data=df_treino).fit()\n",
        "print(modelo_cat.summary())\n",
        "\n",
        "# Previsão no holdout e R² ajustado\n",
        "y_pred_cat = modelo_cat.predict(df_holdout)\n",
        "def r2_ajustado_holdout(y_true, y_pred, k):\n",
        "    n = len(y_true)\n",
        "    r2 = r2_score(y_true, y_pred)\n",
        "    return 1 - (1 - r2) * (n - 1) / (n - k - 1)\n",
        "r2adj_cat = r2_ajustado_holdout(df_holdout['renda'], y_pred_cat, len(modelo_cat.params) - 1)\n",
        "print(f'Categorização (com variáveis) - R² ajustado holdout: {r2adj_cat:.4f}')"
      ]
    },
    {
      "cell_type": "code",
      "execution_count": 29,
      "metadata": {
        "id": "Xq-vJM_qOWfY",
        "colab": {
          "base_uri": "https://localhost:8080/"
        },
        "outputId": "804a777d-8c08-4230-9a11-fd5459953c7d"
      },
      "outputs": [
        {
          "output_type": "stream",
          "name": "stdout",
          "text": [
            "                            OLS Regression Results                            \n",
            "==============================================================================\n",
            "Dep. Variable:                  renda   R-squared:                       0.128\n",
            "Model:                            OLS   Adj. R-squared:                  0.128\n",
            "Method:                 Least Squares   F-statistic:                     3669.\n",
            "Date:                Mon, 16 Jun 2025   Prob (F-statistic):               0.00\n",
            "Time:                        14:45:56   Log-Likelihood:            -7.7176e+06\n",
            "No. Observations:              600000   AIC:                         1.544e+07\n",
            "Df Residuals:                  599975   BIC:                         1.544e+07\n",
            "Df Model:                          24                                         \n",
            "Covariance Type:            nonrobust                                         \n",
            "====================================================================================================\n",
            "                                       coef    std err          t      P>|t|      [0.025      0.975]\n",
            "----------------------------------------------------------------------------------------------------\n",
            "Intercept                        -1.044e+05   4871.222    -21.434      0.000   -1.14e+05   -9.49e+04\n",
            "sexo[T.M]                        -6735.2297    284.479    -23.676      0.000   -7292.799   -6177.660\n",
            "posse_de_veiculo[T.S]            -2418.5712    270.693     -8.935      0.000   -2949.121   -1888.022\n",
            "posse_de_imovel[T.S]              5203.3687    264.769     19.652      0.000    4684.430    5722.307\n",
            "tipo_renda[T.Bolsista]           -5.134e+04   5354.932     -9.587      0.000   -6.18e+04   -4.08e+04\n",
            "tipo_renda[T.Empresário]         -1165.1319    305.274     -3.817      0.000   -1763.459    -566.804\n",
            "tipo_renda[T.Pensionista]        -5.313e+04    427.121   -124.392      0.000    -5.4e+04   -5.23e+04\n",
            "tipo_renda[T.Servidor público]    7171.4593    449.326     15.960      0.000    6290.794    8052.124\n",
            "educacao[T.Médio]                 -512.2270   1143.192     -0.448      0.654   -2752.847    1728.394\n",
            "educacao[T.Pós graduação]         6773.2764   3892.894      1.740      0.082    -856.671    1.44e+04\n",
            "educacao[T.Superior completo]     3301.3444   1155.417      2.857      0.004    1036.764    5565.925\n",
            "educacao[T.Superior incompleto]   1.081e+04   1292.576      8.364      0.000    8277.536    1.33e+04\n",
            "estado_civil[T.Separado]          2722.1101   2348.682      1.159      0.246   -1881.231    7325.451\n",
            "estado_civil[T.Solteiro]           1.34e+04   2304.439      5.815      0.000    8884.371    1.79e+04\n",
            "estado_civil[T.União]             2147.6216    460.379      4.665      0.000    1245.293    3049.950\n",
            "estado_civil[T.Viúvo]            -2830.5123   2373.960     -1.192      0.233   -7483.397    1822.373\n",
            "tipo_residencia[T.Casa]           1189.1782   1039.829      1.144      0.253    -848.853    3227.209\n",
            "tipo_residencia[T.Com os pais]    4997.8237   1178.433      4.241      0.000    2688.133    7307.514\n",
            "tipo_residencia[T.Comunitário]    2128.7320   2098.294      1.015      0.310   -1983.857    6241.321\n",
            "tipo_residencia[T.Estúdio]       -4978.1536   1752.703     -2.840      0.005   -8413.395   -1542.912\n",
            "tipo_residencia[T.Governamental]  -860.7154   1237.540     -0.696      0.487   -3286.253    1564.823\n",
            "tempo_emprego_log                 4.303e+04    183.224    234.825      0.000    4.27e+04    4.34e+04\n",
            "qtd_filhos                       -1796.8430   2294.005     -0.783      0.433   -6293.019    2699.333\n",
            "idade                             1174.7349     15.534     75.622      0.000    1144.288    1205.182\n",
            "qt_pessoas_residencia             1010.5358   2289.122      0.441      0.659   -3476.069    5497.141\n",
            "==============================================================================\n",
            "Omnibus:                  1391230.915   Durbin-Watson:                   1.954\n",
            "Prob(Omnibus):                  0.000   Jarque-Bera (JB):      21626933248.787\n",
            "Skew:                          22.685   Prob(JB):                         0.00\n",
            "Kurtosis:                     931.988   Cond. No.                     2.62e+03\n",
            "==============================================================================\n",
            "\n",
            "Notes:\n",
            "[1] Standard Errors assume that the covariance matrix of the errors is correctly specified.\n",
            "[2] The condition number is large, 2.62e+03. This might indicate that there are\n",
            "strong multicollinearity or other numerical problems.\n",
            "Log(tempo_emprego+1) (com variáveis) - R² ajustado holdout: -1.7695\n"
          ]
        }
      ],
      "source": [
        "# Transformaçåo Log\n",
        "df_treino['tempo_emprego_log'] = np.log(df_treino['tempo_emprego'] + 1)\n",
        "df_holdout['tempo_emprego_log'] = np.log(df_holdout['tempo_emprego'] + 1)\n",
        "\n",
        "formula_log = ('renda ~ tempo_emprego_log + sexo + posse_de_veiculo + posse_de_imovel + '\n",
        "               'qtd_filhos + tipo_renda + educacao + estado_civil + tipo_residencia + '\n",
        "               'idade + qt_pessoas_residencia')\n",
        "\n",
        "modelo_log = smf.ols(formula_log, data=df_treino).fit()\n",
        "print(modelo_log.summary())\n",
        "\n",
        "y_pred_log = modelo_log.predict(df_holdout)\n",
        "r2adj_log = r2_ajustado_holdout(df_holdout['renda'], y_pred_log, len(modelo_log.params) - 1)\n",
        "print(f'Log(tempo_emprego+1) (com variáveis) - R² ajustado holdout: {r2adj_log:.4f}')\n"
      ]
    },
    {
      "cell_type": "code",
      "execution_count": 30,
      "metadata": {
        "id": "4Mhss0DdOWOv",
        "colab": {
          "base_uri": "https://localhost:8080/"
        },
        "outputId": "62cb99a0-e1f1-4a1b-ad55-263fa481c846"
      },
      "outputs": [
        {
          "output_type": "stream",
          "name": "stdout",
          "text": [
            "                            OLS Regression Results                            \n",
            "==============================================================================\n",
            "Dep. Variable:                  renda   R-squared:                       0.302\n",
            "Model:                            OLS   Adj. R-squared:                  0.301\n",
            "Method:                 Least Squares   F-statistic:                 1.036e+04\n",
            "Date:                Mon, 16 Jun 2025   Prob (F-statistic):               0.00\n",
            "Time:                        14:47:36   Log-Likelihood:            -7.6511e+06\n",
            "No. Observations:              600000   AIC:                         1.530e+07\n",
            "Df Residuals:                  599974   BIC:                         1.530e+07\n",
            "Df Model:                          25                                         \n",
            "Covariance Type:            nonrobust                                         \n",
            "====================================================================================================\n",
            "                                       coef    std err          t      P>|t|      [0.025      0.975]\n",
            "----------------------------------------------------------------------------------------------------\n",
            "Intercept                         2.265e+04   4364.938      5.189      0.000    1.41e+04    3.12e+04\n",
            "sexo[T.M]                        -3241.2297    254.787    -12.721      0.000   -3740.605   -2741.854\n",
            "posse_de_veiculo[T.S]             -194.9075    242.326     -0.804      0.421    -669.858     280.043\n",
            "posse_de_imovel[T.S]              6408.4999    236.996     27.041      0.000    5943.996    6873.004\n",
            "tipo_renda[T.Bolsista]           -1.517e+04   4793.656     -3.164      0.002   -2.46e+04   -5773.217\n",
            "tipo_renda[T.Empresário]          3276.5957    273.450     11.982      0.000    2740.642    3812.550\n",
            "tipo_renda[T.Pensionista]         1.493e+04    430.346     34.701      0.000    1.41e+04    1.58e+04\n",
            "tipo_renda[T.Servidor público]    1088.6875    402.523      2.705      0.007     299.756    1877.619\n",
            "educacao[T.Médio]                -5794.0555   1023.230     -5.663      0.000   -7799.553   -3788.558\n",
            "educacao[T.Pós graduação]        -3226.1346   3484.175     -0.926      0.354   -1.01e+04    3602.737\n",
            "educacao[T.Superior completo]    -1856.8589   1034.166     -1.796      0.073   -3883.790     170.072\n",
            "educacao[T.Superior incompleto]    496.3570   1157.146      0.429      0.668   -1771.612    2764.326\n",
            "estado_civil[T.Separado]         -5014.7680   2102.127     -2.386      0.017   -9134.870    -894.666\n",
            "estado_civil[T.Solteiro]          3777.0478   2062.552      1.831      0.067    -265.487    7819.583\n",
            "estado_civil[T.União]            -1643.0916    412.182     -3.986      0.000   -2450.954    -835.229\n",
            "estado_civil[T.Viúvo]            -4232.3636   2124.642     -1.992      0.046   -8396.594     -68.133\n",
            "tipo_residencia[T.Casa]          -4099.7074    930.714     -4.405      0.000   -5923.878   -2275.537\n",
            "tipo_residencia[T.Com os pais]   -3558.8288   1054.856     -3.374      0.001   -5626.313   -1491.345\n",
            "tipo_residencia[T.Comunitário]   -7564.2077   1878.038     -4.028      0.000   -1.12e+04   -3883.313\n",
            "tipo_residencia[T.Estúdio]        2149.1790   1568.899      1.370      0.171    -925.813    5224.171\n",
            "tipo_residencia[T.Governamental] -1.111e+04   1107.874    -10.024      0.000   -1.33e+04   -8933.617\n",
            "tempo_emprego_below              -3392.3188     54.366    -62.398      0.000   -3498.874   -3285.763\n",
            "tempo_emprego_above                1.21e+04     27.151    445.479      0.000     1.2e+04    1.21e+04\n",
            "qtd_filhos                        2473.0002   2053.110      1.205      0.228   -1551.031    6497.031\n",
            "idade                              111.5486     14.169      7.873      0.000      83.777     139.320\n",
            "qt_pessoas_residencia            -2794.5484   2048.732     -1.364      0.173   -6809.998    1220.901\n",
            "==============================================================================\n",
            "Omnibus:                  1444280.977   Durbin-Watson:                   1.941\n",
            "Prob(Omnibus):                  0.000   Jarque-Bera (JB):      34036209451.792\n",
            "Skew:                          24.752   Prob(JB):                         0.00\n",
            "Kurtosis:                    1168.761   Cond. No.                     2.64e+03\n",
            "==============================================================================\n",
            "\n",
            "Notes:\n",
            "[1] Standard Errors assume that the covariance matrix of the errors is correctly specified.\n",
            "[2] The condition number is large, 2.64e+03. This might indicate that there are\n",
            "strong multicollinearity or other numerical problems.\n",
            "Regressão segmentada (com variáveis) - R² ajustado holdout: -3.1197\n"
          ]
        }
      ],
      "source": [
        "# Regressão segmentada\n",
        "breakpoint = df_treino['tempo_emprego'].median()\n",
        "df_treino['tempo_emprego_below'] = df_treino['tempo_emprego'].clip(upper=breakpoint)\n",
        "df_treino['tempo_emprego_above'] = (df_treino['tempo_emprego'] - breakpoint).clip(lower=0)\n",
        "df_holdout['tempo_emprego_below'] = df_holdout['tempo_emprego'].clip(upper=breakpoint)\n",
        "df_holdout['tempo_emprego_above'] = (df_holdout['tempo_emprego'] - breakpoint).clip(lower=0)\n",
        "\n",
        "formula_seg = ('renda ~ tempo_emprego_below + tempo_emprego_above + sexo + posse_de_veiculo + '\n",
        "               'posse_de_imovel + qtd_filhos + tipo_renda + educacao + estado_civil + '\n",
        "               'tipo_residencia + idade + qt_pessoas_residencia')\n",
        "\n",
        "modelo_seg = smf.ols(formula_seg, data=df_treino).fit()\n",
        "print(modelo_seg.summary())\n",
        "\n",
        "y_pred_seg = modelo_seg.predict(df_holdout)\n",
        "r2adj_seg = r2_ajustado_holdout(df_holdout['renda'], y_pred_seg, len(modelo_seg.params) - 1)\n",
        "print(f'Regressão segmentada (com variáveis) - R² ajustado holdout: {r2adj_seg:.4f}')"
      ]
    },
    {
      "cell_type": "code",
      "execution_count": 31,
      "metadata": {
        "colab": {
          "base_uri": "https://localhost:8080/"
        },
        "id": "o8kYtRz-R9Xi",
        "outputId": "a77d2dbe-4412-463f-f16a-57408b2b9b7f"
      },
      "outputs": [
        {
          "output_type": "stream",
          "name": "stdout",
          "text": [
            "LOWESS (correção de resíduos) - R² ajustado holdout: -1.0135\n"
          ]
        }
      ],
      "source": [
        "# Lowess\n",
        "formula_base = ('renda ~ sexo + posse_de_veiculo + posse_de_imovel + '\n",
        "                'qtd_filhos + tipo_renda + educacao + estado_civil + tipo_residencia + '\n",
        "                'idade + qt_pessoas_residencia')\n",
        "modelo_base = smf.ols(formula_base, data=df_treino).fit()\n",
        "residuos_treino = df_treino['renda'] - modelo_base.predict(df_treino)\n",
        "\n",
        "import statsmodels.api as sm\n",
        "from scipy.interpolate import interp1d\n",
        "\n",
        "lowess_fit = sm.nonparametric.lowess(residuos_treino, df_treino['tempo_emprego'], frac=0.3, return_sorted=True)\n",
        "x_unique, idx = np.unique(lowess_fit[:, 0], return_index=True)\n",
        "y_unique = lowess_fit[:, 1][idx]\n",
        "lowess_interp = interp1d(x_unique, y_unique, fill_value='extrapolate')\n",
        "\n",
        "# Prever LOWESS para holdout\n",
        "residuos_lowess_pred = lowess_interp(df_holdout['tempo_emprego'])\n",
        "\n",
        "# Predição final: predição do modelo base + correção LOWESS\n",
        "y_pred_lowess = modelo_base.predict(df_holdout) + residuos_lowess_pred\n",
        "r2adj_lowess = r2_ajustado_holdout(df_holdout['renda'], y_pred_lowess, len(modelo_base.params))\n",
        "print(f'LOWESS (correção de resíduos) - R² ajustado holdout: {r2adj_lowess:.4f}')\n"
      ]
    },
    {
      "cell_type": "code",
      "execution_count": 34,
      "metadata": {
        "colab": {
          "base_uri": "https://localhost:8080/"
        },
        "id": "NxwvYtJTOWEm",
        "outputId": "f94b6096-3a35-443d-c827-3fbb3be63827"
      },
      "outputs": [
        {
          "output_type": "stream",
          "name": "stdout",
          "text": [
            "                                Técnica  R² ajustado (holdout)\n",
            "0         Categorização (com variáveis)                -2.6713\n",
            "1  Log(tempo_emprego+1) (com variáveis)                -1.7695\n",
            "2  Regressão segmentada (com variáveis)                -3.1197\n",
            "3         LOWESS (correção de resíduos)                -1.0135\n",
            "4             Regressão Linear Completa                 0.2400\n"
          ]
        }
      ],
      "source": [
        "# Exibir resultados comparativos\n",
        "resultados = [\n",
        "    ('Categorização (com variáveis)', -2.6713),\n",
        "    ('Log(tempo_emprego+1) (com variáveis)', -1.7695),\n",
        "    ('Regressão segmentada (com variáveis)', -3.1197),\n",
        "    ('LOWESS (correção de resíduos)', -1.0135),\n",
        "    ('Regressão Linear Completa', 0.24)\n",
        "]\n",
        "\n",
        "df_resultados = pd.DataFrame(resultados, columns=['Técnica', 'R² ajustado (holdout)'])\n",
        "\n",
        "print(df_resultados)\n"
      ]
    },
    {
      "cell_type": "markdown",
      "metadata": {
        "id": "VMYDoTCillBu"
      },
      "source": [
        "### Avaliando o modelo\n",
        "\n",
        "Avalie os resultados dos modelos construidos na base de testes."
      ]
    },
    {
      "cell_type": "markdown",
      "source": [
        "**Análise Crítica:**\n",
        "\n",
        "**Regressão Linear Completa:**\n",
        "\n",
        "Este foi o único modelo a apresentar R² ajustado positivo no holdout, com valor de 0.24. Isso indica que o modelo conseguiu explicar cerca de 24% da variabilidade da renda na base de teste, superando todas as outras técnicas e também a previsão pela média.\n",
        "\n",
        "**Técnicas de transformação do tempo de emprego:**\n",
        "\n",
        "Tanto a categorização, quanto a transformação logarítmica, a regressão segmentada e o ajuste LOWESS, mesmo combinadas com outras variáveis, não apresentaram desempenho satisfatório (R² ajustado negativo). Ou seja, não conseguiram gerar predições melhores do que a média da renda para o conjunto de teste.\n",
        "\n",
        "**Possíveis motivos para baixo desempenho das técnicas alternativas:**\n",
        "\n",
        "- O tempo de emprego, quando transformado ou categorizado, não é um preditor suficientemente forte de renda para esta base.\n",
        "\n",
        "- As demais variáveis, quando utilizadas em conjunto, têm poder explicativo muito maior que qualquer transformação individual do tempo de emprego.\n",
        "\n",
        "- Pode ter havido “overfitting” devido ao alto número de categorias ou excesso de complexidade em modelos simples.\n",
        "\n",
        "- Diferença de perfil ou distribuição entre as bases de treino e teste (“drift” temporal)."
      ],
      "metadata": {
        "id": "Ry6Ga9Cre48t"
      }
    }
  ],
  "metadata": {
    "colab": {
      "provenance": [],
      "include_colab_link": true
    },
    "kernelspec": {
      "display_name": "Python 3",
      "language": "python",
      "name": "python3"
    },
    "language_info": {
      "codemirror_mode": {
        "name": "ipython",
        "version": 3
      },
      "file_extension": ".py",
      "mimetype": "text/x-python",
      "name": "python",
      "nbconvert_exporter": "python",
      "pygments_lexer": "ipython3",
      "version": "3.8.5"
    },
    "toc": {
      "base_numbering": 1,
      "nav_menu": {},
      "number_sections": false,
      "sideBar": true,
      "skip_h1_title": true,
      "title_cell": "Índice",
      "title_sidebar": "Conteúdo",
      "toc_cell": false,
      "toc_position": {},
      "toc_section_display": true,
      "toc_window_display": false
    },
    "varInspector": {
      "cols": {
        "lenName": 16,
        "lenType": 16,
        "lenVar": 40
      },
      "kernels_config": {
        "python": {
          "delete_cmd_postfix": "",
          "delete_cmd_prefix": "del ",
          "library": "var_list.py",
          "varRefreshCmd": "print(var_dic_list())"
        },
        "r": {
          "delete_cmd_postfix": ") ",
          "delete_cmd_prefix": "rm(",
          "library": "var_list.r",
          "varRefreshCmd": "cat(var_dic_list()) "
        }
      },
      "types_to_exclude": [
        "module",
        "function",
        "builtin_function_or_method",
        "instance",
        "_Feature"
      ],
      "window_display": false
    }
  },
  "nbformat": 4,
  "nbformat_minor": 0
}