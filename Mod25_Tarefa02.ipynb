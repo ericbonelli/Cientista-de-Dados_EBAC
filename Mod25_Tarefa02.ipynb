{
  "cells": [
    {
      "cell_type": "markdown",
      "metadata": {
        "id": "view-in-github",
        "colab_type": "text"
      },
      "source": [
        "<a href=\"https://colab.research.google.com/github/ericbonelli/Cientista-de-Dados_EBAC/blob/main/Mod25_Tarefa02.ipynb\" target=\"_parent\"><img src=\"https://colab.research.google.com/assets/colab-badge.svg\" alt=\"Open In Colab\"/></a>"
      ]
    },
    {
      "cell_type": "markdown",
      "metadata": {
        "id": "K5ZOssKQ1JfY"
      },
      "source": [
        "# Cálculo - Tarefa 02\n",
        "\n",
        "1- Calcule de forma numérica a integral da função $x^3$ avaliada entre os pontos $1$ e $2$. Identifique o número de retângulos que você usou.  \n",
        "2- Calcule essa área de forma analítica."
      ]
    },
    {
      "cell_type": "code",
      "source": [
        "# Definindo a função\n",
        "def f(x):\n",
        "    return x**3\n",
        "\n",
        "# Intervalo de integração\n",
        "a = 1\n",
        "b = 2\n",
        "\n",
        "# Número de retângulos\n",
        "n = 4\n",
        "\n",
        "# Largura de cada retângulo\n",
        "dx = (b - a) / n\n",
        "\n",
        "# Soma dos retângulos usando a regra à esquerda\n",
        "soma = 0\n",
        "for i in range(n):\n",
        "    x = a + i * dx\n",
        "    soma += f(x)\n",
        "\n",
        "# Multiplicando pela largura\n",
        "integral_aproximada = dx * soma\n",
        "\n",
        "# Resultado\n",
        "print(f\"Integral aproximada: {integral_aproximada:.4f}\")\n",
        "print(f\"Número de retângulos: {n}\")\n"
      ],
      "metadata": {
        "colab": {
          "base_uri": "https://localhost:8080/"
        },
        "id": "2bUtwHE518wh",
        "outputId": "bbe64048-4725-440c-d9f5-3bbfc138c537"
      },
      "execution_count": 3,
      "outputs": [
        {
          "output_type": "stream",
          "name": "stdout",
          "text": [
            "Integral aproximada: 2.9219\n",
            "Número de retângulos: 4\n"
          ]
        }
      ]
    },
    {
      "cell_type": "markdown",
      "source": [
        "## 📘 Cálculo Analítico da Integral de \\( f(x) = x^3 \\) no Intervalo \\([1, 2]\\)\n",
        "\n",
        "Queremos calcular a área sob a curva da função \\( f(x) = x^3 \\) entre os pontos \\( x = 1 \\) e \\( x = 2 \\), ou seja, resolver a seguinte integral definida:\n",
        "\n",
        "$$\n",
        "\\int_{1}^{2} x^3 \\, dx\n",
        "$$\n",
        "\n",
        "### ✏️ Passo 1: Encontrar a primitiva\n",
        "\n",
        "A integral indefinida de \\( x^3 \\) é:\n",
        "\n",
        "$$\n",
        "\\int x^3 \\, dx = \\frac{x^4}{4} + C\n",
        "$$\n",
        "\n",
        "### ✏️ Passo 2: Avaliar a integral entre os limites de 1 a 2\n",
        "\n",
        "$$\n",
        "\\left. \\frac{x^4}{4} \\right|_1^2 = \\frac{2^4}{4} - \\frac{1^4}{4} = \\frac{16}{4} - \\frac{1}{4} = \\frac{15}{4}\n",
        "$$\n",
        "\n",
        "### ✅ Resultado Final\n",
        "\n",
        "$$\n",
        "\\boxed{\\text{Área} = \\frac{15}{4} = 3{,}75}\n",
        "$$\n",
        "\n",
        "Portanto, a área exata sob a curva \\( f(x) = x^3 \\) de 1 a 2 é **3,75**.\n"
      ],
      "metadata": {
        "id": "ENYfbvZU2gH1"
      }
    }
  ],
  "metadata": {
    "kernelspec": {
      "display_name": "Python 3",
      "language": "python",
      "name": "python3"
    },
    "language_info": {
      "codemirror_mode": {
        "name": "ipython",
        "version": 3
      },
      "file_extension": ".py",
      "mimetype": "text/x-python",
      "name": "python",
      "nbconvert_exporter": "python",
      "pygments_lexer": "ipython3",
      "version": "3.8.5"
    },
    "toc": {
      "base_numbering": 1,
      "nav_menu": {},
      "number_sections": true,
      "sideBar": true,
      "skip_h1_title": true,
      "title_cell": "Índice",
      "title_sidebar": "Conteúdo",
      "toc_cell": false,
      "toc_position": {},
      "toc_section_display": true,
      "toc_window_display": false
    },
    "varInspector": {
      "cols": {
        "lenName": 16,
        "lenType": 16,
        "lenVar": 40
      },
      "kernels_config": {
        "python": {
          "delete_cmd_postfix": "",
          "delete_cmd_prefix": "del ",
          "library": "var_list.py",
          "varRefreshCmd": "print(var_dic_list())"
        },
        "r": {
          "delete_cmd_postfix": ") ",
          "delete_cmd_prefix": "rm(",
          "library": "var_list.r",
          "varRefreshCmd": "cat(var_dic_list()) "
        }
      },
      "types_to_exclude": [
        "module",
        "function",
        "builtin_function_or_method",
        "instance",
        "_Feature"
      ],
      "window_display": false
    },
    "colab": {
      "provenance": [],
      "include_colab_link": true
    }
  },
  "nbformat": 4,
  "nbformat_minor": 0
}