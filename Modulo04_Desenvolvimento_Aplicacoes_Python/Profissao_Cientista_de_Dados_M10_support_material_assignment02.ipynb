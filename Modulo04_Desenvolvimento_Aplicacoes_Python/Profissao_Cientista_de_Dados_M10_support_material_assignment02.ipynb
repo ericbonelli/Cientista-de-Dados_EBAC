{
  "cells": [
    {
      "cell_type": "markdown",
      "metadata": {
        "id": "view-in-github",
        "colab_type": "text"
      },
      "source": [
        "<a href=\"https://colab.research.google.com/github/ericbonelli/Cientista-de-Dados_EBAC/blob/main/Profissao_Cientista_de_Dados_M10_support_material_assignment02.ipynb\" target=\"_parent\"><img src=\"https://colab.research.google.com/assets/colab-badge.svg\" alt=\"Open In Colab\"/></a>"
      ]
    },
    {
      "cell_type": "markdown",
      "metadata": {
        "id": "2Qfq9kpe_L8L"
      },
      "source": [
        "# Módulo 10 tarefa 2\n",
        "\n",
        "Considere a mesma base de dados utilizada na tarefa 1 ```previsao_de_renda.csv```."
      ]
    },
    {
      "cell_type": "markdown",
      "metadata": {
        "id": "a0uF5bOv_L8T"
      },
      "source": [
        "1) Com o que você viu em aula, faça uma análise das variáveis qualitativas (posse de imóvel e posse de veículo) para verificar se são boas preditoras de *renda*. Alguma delas parece discriminar *renda* de forma estatisticamente significante?"
      ]
    },
    {
      "cell_type": "code",
      "execution_count": 25,
      "metadata": {
        "id": "lZx-9xS7_L8U"
      },
      "outputs": [],
      "source": [
        "import numpy as np\n",
        "import pandas as pd\n",
        "import matplotlib.pyplot as plt\n",
        "import seaborn as sns\n",
        "import sklearn\n",
        "import scipy.stats as stats\n",
        "\n",
        "%matplotlib inline"
      ]
    },
    {
      "cell_type": "code",
      "source": [
        "from google.colab import drive\n",
        "drive.mount('/content/drive')"
      ],
      "metadata": {
        "colab": {
          "base_uri": "https://localhost:8080/"
        },
        "id": "ZDlOM43m_TF3",
        "outputId": "703831ef-02be-42ee-959f-19658d4e2e30"
      },
      "execution_count": 2,
      "outputs": [
        {
          "output_type": "stream",
          "name": "stdout",
          "text": [
            "Mounted at /content/drive\n"
          ]
        }
      ]
    },
    {
      "cell_type": "code",
      "source": [
        "data = pd.read_csv('/content/drive/MyDrive/Especialização em IA/Cientista de Dados - Ebac/Desenvolvimento de aplicações com Python/Descritiva II - Análise descritiva para resposta contínuaome/Profissao- Cientista de Dados_M10_support material.csv')\n",
        "data.head()"
      ],
      "metadata": {
        "colab": {
          "base_uri": "https://localhost:8080/",
          "height": 330
        },
        "id": "PP_oV41x_S6i",
        "outputId": "646a4ba9-6555-4732-d08e-becf2c630701"
      },
      "execution_count": 3,
      "outputs": [
        {
          "output_type": "execute_result",
          "data": {
            "text/plain": [
              "   Unnamed: 0    data_ref  index sexo  posse_de_veiculo  posse_de_imovel  \\\n",
              "0           0  2015-01-01   8682    F             False             True   \n",
              "1           1  2015-01-01  12830    M              True             True   \n",
              "2           2  2015-01-01   2885    M              True             True   \n",
              "3           3  2015-01-01  16168    F              True            False   \n",
              "4           4  2015-01-01  12438    M             False            False   \n",
              "\n",
              "   qtd_filhos   tipo_renda           educacao estado_civil tipo_residencia  \\\n",
              "0           1  Assalariado         Secundário       Casado            Casa   \n",
              "1           0   Empresário         Secundário       Casado            Casa   \n",
              "2           2  Assalariado  Superior completo       Casado            Casa   \n",
              "3           0   Empresário         Secundário       Casado            Casa   \n",
              "4           0  Assalariado         Secundário       Casado            Casa   \n",
              "\n",
              "   idade  tempo_emprego  qt_pessoas_residencia    mau    renda  \n",
              "0     36       3.575342                    3.0  False  3369.24  \n",
              "1     42       0.860274                    2.0  False  6096.14  \n",
              "2     31       8.065753                    4.0  False  5658.98  \n",
              "3     50       1.208219                    2.0  False  7246.69  \n",
              "4     52      13.873973                    2.0  False  4017.37  "
            ],
            "text/html": [
              "\n",
              "  <div id=\"df-b39c2595-0b65-4572-8d09-1d9da9142961\" class=\"colab-df-container\">\n",
              "    <div>\n",
              "<style scoped>\n",
              "    .dataframe tbody tr th:only-of-type {\n",
              "        vertical-align: middle;\n",
              "    }\n",
              "\n",
              "    .dataframe tbody tr th {\n",
              "        vertical-align: top;\n",
              "    }\n",
              "\n",
              "    .dataframe thead th {\n",
              "        text-align: right;\n",
              "    }\n",
              "</style>\n",
              "<table border=\"1\" class=\"dataframe\">\n",
              "  <thead>\n",
              "    <tr style=\"text-align: right;\">\n",
              "      <th></th>\n",
              "      <th>Unnamed: 0</th>\n",
              "      <th>data_ref</th>\n",
              "      <th>index</th>\n",
              "      <th>sexo</th>\n",
              "      <th>posse_de_veiculo</th>\n",
              "      <th>posse_de_imovel</th>\n",
              "      <th>qtd_filhos</th>\n",
              "      <th>tipo_renda</th>\n",
              "      <th>educacao</th>\n",
              "      <th>estado_civil</th>\n",
              "      <th>tipo_residencia</th>\n",
              "      <th>idade</th>\n",
              "      <th>tempo_emprego</th>\n",
              "      <th>qt_pessoas_residencia</th>\n",
              "      <th>mau</th>\n",
              "      <th>renda</th>\n",
              "    </tr>\n",
              "  </thead>\n",
              "  <tbody>\n",
              "    <tr>\n",
              "      <th>0</th>\n",
              "      <td>0</td>\n",
              "      <td>2015-01-01</td>\n",
              "      <td>8682</td>\n",
              "      <td>F</td>\n",
              "      <td>False</td>\n",
              "      <td>True</td>\n",
              "      <td>1</td>\n",
              "      <td>Assalariado</td>\n",
              "      <td>Secundário</td>\n",
              "      <td>Casado</td>\n",
              "      <td>Casa</td>\n",
              "      <td>36</td>\n",
              "      <td>3.575342</td>\n",
              "      <td>3.0</td>\n",
              "      <td>False</td>\n",
              "      <td>3369.24</td>\n",
              "    </tr>\n",
              "    <tr>\n",
              "      <th>1</th>\n",
              "      <td>1</td>\n",
              "      <td>2015-01-01</td>\n",
              "      <td>12830</td>\n",
              "      <td>M</td>\n",
              "      <td>True</td>\n",
              "      <td>True</td>\n",
              "      <td>0</td>\n",
              "      <td>Empresário</td>\n",
              "      <td>Secundário</td>\n",
              "      <td>Casado</td>\n",
              "      <td>Casa</td>\n",
              "      <td>42</td>\n",
              "      <td>0.860274</td>\n",
              "      <td>2.0</td>\n",
              "      <td>False</td>\n",
              "      <td>6096.14</td>\n",
              "    </tr>\n",
              "    <tr>\n",
              "      <th>2</th>\n",
              "      <td>2</td>\n",
              "      <td>2015-01-01</td>\n",
              "      <td>2885</td>\n",
              "      <td>M</td>\n",
              "      <td>True</td>\n",
              "      <td>True</td>\n",
              "      <td>2</td>\n",
              "      <td>Assalariado</td>\n",
              "      <td>Superior completo</td>\n",
              "      <td>Casado</td>\n",
              "      <td>Casa</td>\n",
              "      <td>31</td>\n",
              "      <td>8.065753</td>\n",
              "      <td>4.0</td>\n",
              "      <td>False</td>\n",
              "      <td>5658.98</td>\n",
              "    </tr>\n",
              "    <tr>\n",
              "      <th>3</th>\n",
              "      <td>3</td>\n",
              "      <td>2015-01-01</td>\n",
              "      <td>16168</td>\n",
              "      <td>F</td>\n",
              "      <td>True</td>\n",
              "      <td>False</td>\n",
              "      <td>0</td>\n",
              "      <td>Empresário</td>\n",
              "      <td>Secundário</td>\n",
              "      <td>Casado</td>\n",
              "      <td>Casa</td>\n",
              "      <td>50</td>\n",
              "      <td>1.208219</td>\n",
              "      <td>2.0</td>\n",
              "      <td>False</td>\n",
              "      <td>7246.69</td>\n",
              "    </tr>\n",
              "    <tr>\n",
              "      <th>4</th>\n",
              "      <td>4</td>\n",
              "      <td>2015-01-01</td>\n",
              "      <td>12438</td>\n",
              "      <td>M</td>\n",
              "      <td>False</td>\n",
              "      <td>False</td>\n",
              "      <td>0</td>\n",
              "      <td>Assalariado</td>\n",
              "      <td>Secundário</td>\n",
              "      <td>Casado</td>\n",
              "      <td>Casa</td>\n",
              "      <td>52</td>\n",
              "      <td>13.873973</td>\n",
              "      <td>2.0</td>\n",
              "      <td>False</td>\n",
              "      <td>4017.37</td>\n",
              "    </tr>\n",
              "  </tbody>\n",
              "</table>\n",
              "</div>\n",
              "    <div class=\"colab-df-buttons\">\n",
              "\n",
              "  <div class=\"colab-df-container\">\n",
              "    <button class=\"colab-df-convert\" onclick=\"convertToInteractive('df-b39c2595-0b65-4572-8d09-1d9da9142961')\"\n",
              "            title=\"Convert this dataframe to an interactive table.\"\n",
              "            style=\"display:none;\">\n",
              "\n",
              "  <svg xmlns=\"http://www.w3.org/2000/svg\" height=\"24px\" viewBox=\"0 -960 960 960\">\n",
              "    <path d=\"M120-120v-720h720v720H120Zm60-500h600v-160H180v160Zm220 220h160v-160H400v160Zm0 220h160v-160H400v160ZM180-400h160v-160H180v160Zm440 0h160v-160H620v160ZM180-180h160v-160H180v160Zm440 0h160v-160H620v160Z\"/>\n",
              "  </svg>\n",
              "    </button>\n",
              "\n",
              "  <style>\n",
              "    .colab-df-container {\n",
              "      display:flex;\n",
              "      gap: 12px;\n",
              "    }\n",
              "\n",
              "    .colab-df-convert {\n",
              "      background-color: #E8F0FE;\n",
              "      border: none;\n",
              "      border-radius: 50%;\n",
              "      cursor: pointer;\n",
              "      display: none;\n",
              "      fill: #1967D2;\n",
              "      height: 32px;\n",
              "      padding: 0 0 0 0;\n",
              "      width: 32px;\n",
              "    }\n",
              "\n",
              "    .colab-df-convert:hover {\n",
              "      background-color: #E2EBFA;\n",
              "      box-shadow: 0px 1px 2px rgba(60, 64, 67, 0.3), 0px 1px 3px 1px rgba(60, 64, 67, 0.15);\n",
              "      fill: #174EA6;\n",
              "    }\n",
              "\n",
              "    .colab-df-buttons div {\n",
              "      margin-bottom: 4px;\n",
              "    }\n",
              "\n",
              "    [theme=dark] .colab-df-convert {\n",
              "      background-color: #3B4455;\n",
              "      fill: #D2E3FC;\n",
              "    }\n",
              "\n",
              "    [theme=dark] .colab-df-convert:hover {\n",
              "      background-color: #434B5C;\n",
              "      box-shadow: 0px 1px 3px 1px rgba(0, 0, 0, 0.15);\n",
              "      filter: drop-shadow(0px 1px 2px rgba(0, 0, 0, 0.3));\n",
              "      fill: #FFFFFF;\n",
              "    }\n",
              "  </style>\n",
              "\n",
              "    <script>\n",
              "      const buttonEl =\n",
              "        document.querySelector('#df-b39c2595-0b65-4572-8d09-1d9da9142961 button.colab-df-convert');\n",
              "      buttonEl.style.display =\n",
              "        google.colab.kernel.accessAllowed ? 'block' : 'none';\n",
              "\n",
              "      async function convertToInteractive(key) {\n",
              "        const element = document.querySelector('#df-b39c2595-0b65-4572-8d09-1d9da9142961');\n",
              "        const dataTable =\n",
              "          await google.colab.kernel.invokeFunction('convertToInteractive',\n",
              "                                                    [key], {});\n",
              "        if (!dataTable) return;\n",
              "\n",
              "        const docLinkHtml = 'Like what you see? Visit the ' +\n",
              "          '<a target=\"_blank\" href=https://colab.research.google.com/notebooks/data_table.ipynb>data table notebook</a>'\n",
              "          + ' to learn more about interactive tables.';\n",
              "        element.innerHTML = '';\n",
              "        dataTable['output_type'] = 'display_data';\n",
              "        await google.colab.output.renderOutput(dataTable, element);\n",
              "        const docLink = document.createElement('div');\n",
              "        docLink.innerHTML = docLinkHtml;\n",
              "        element.appendChild(docLink);\n",
              "      }\n",
              "    </script>\n",
              "  </div>\n",
              "\n",
              "\n",
              "<div id=\"df-78269942-0e7a-40b2-962d-2427f0d95521\">\n",
              "  <button class=\"colab-df-quickchart\" onclick=\"quickchart('df-78269942-0e7a-40b2-962d-2427f0d95521')\"\n",
              "            title=\"Suggest charts\"\n",
              "            style=\"display:none;\">\n",
              "\n",
              "<svg xmlns=\"http://www.w3.org/2000/svg\" height=\"24px\"viewBox=\"0 0 24 24\"\n",
              "     width=\"24px\">\n",
              "    <g>\n",
              "        <path d=\"M19 3H5c-1.1 0-2 .9-2 2v14c0 1.1.9 2 2 2h14c1.1 0 2-.9 2-2V5c0-1.1-.9-2-2-2zM9 17H7v-7h2v7zm4 0h-2V7h2v10zm4 0h-2v-4h2v4z\"/>\n",
              "    </g>\n",
              "</svg>\n",
              "  </button>\n",
              "\n",
              "<style>\n",
              "  .colab-df-quickchart {\n",
              "      --bg-color: #E8F0FE;\n",
              "      --fill-color: #1967D2;\n",
              "      --hover-bg-color: #E2EBFA;\n",
              "      --hover-fill-color: #174EA6;\n",
              "      --disabled-fill-color: #AAA;\n",
              "      --disabled-bg-color: #DDD;\n",
              "  }\n",
              "\n",
              "  [theme=dark] .colab-df-quickchart {\n",
              "      --bg-color: #3B4455;\n",
              "      --fill-color: #D2E3FC;\n",
              "      --hover-bg-color: #434B5C;\n",
              "      --hover-fill-color: #FFFFFF;\n",
              "      --disabled-bg-color: #3B4455;\n",
              "      --disabled-fill-color: #666;\n",
              "  }\n",
              "\n",
              "  .colab-df-quickchart {\n",
              "    background-color: var(--bg-color);\n",
              "    border: none;\n",
              "    border-radius: 50%;\n",
              "    cursor: pointer;\n",
              "    display: none;\n",
              "    fill: var(--fill-color);\n",
              "    height: 32px;\n",
              "    padding: 0;\n",
              "    width: 32px;\n",
              "  }\n",
              "\n",
              "  .colab-df-quickchart:hover {\n",
              "    background-color: var(--hover-bg-color);\n",
              "    box-shadow: 0 1px 2px rgba(60, 64, 67, 0.3), 0 1px 3px 1px rgba(60, 64, 67, 0.15);\n",
              "    fill: var(--button-hover-fill-color);\n",
              "  }\n",
              "\n",
              "  .colab-df-quickchart-complete:disabled,\n",
              "  .colab-df-quickchart-complete:disabled:hover {\n",
              "    background-color: var(--disabled-bg-color);\n",
              "    fill: var(--disabled-fill-color);\n",
              "    box-shadow: none;\n",
              "  }\n",
              "\n",
              "  .colab-df-spinner {\n",
              "    border: 2px solid var(--fill-color);\n",
              "    border-color: transparent;\n",
              "    border-bottom-color: var(--fill-color);\n",
              "    animation:\n",
              "      spin 1s steps(1) infinite;\n",
              "  }\n",
              "\n",
              "  @keyframes spin {\n",
              "    0% {\n",
              "      border-color: transparent;\n",
              "      border-bottom-color: var(--fill-color);\n",
              "      border-left-color: var(--fill-color);\n",
              "    }\n",
              "    20% {\n",
              "      border-color: transparent;\n",
              "      border-left-color: var(--fill-color);\n",
              "      border-top-color: var(--fill-color);\n",
              "    }\n",
              "    30% {\n",
              "      border-color: transparent;\n",
              "      border-left-color: var(--fill-color);\n",
              "      border-top-color: var(--fill-color);\n",
              "      border-right-color: var(--fill-color);\n",
              "    }\n",
              "    40% {\n",
              "      border-color: transparent;\n",
              "      border-right-color: var(--fill-color);\n",
              "      border-top-color: var(--fill-color);\n",
              "    }\n",
              "    60% {\n",
              "      border-color: transparent;\n",
              "      border-right-color: var(--fill-color);\n",
              "    }\n",
              "    80% {\n",
              "      border-color: transparent;\n",
              "      border-right-color: var(--fill-color);\n",
              "      border-bottom-color: var(--fill-color);\n",
              "    }\n",
              "    90% {\n",
              "      border-color: transparent;\n",
              "      border-bottom-color: var(--fill-color);\n",
              "    }\n",
              "  }\n",
              "</style>\n",
              "\n",
              "  <script>\n",
              "    async function quickchart(key) {\n",
              "      const quickchartButtonEl =\n",
              "        document.querySelector('#' + key + ' button');\n",
              "      quickchartButtonEl.disabled = true;  // To prevent multiple clicks.\n",
              "      quickchartButtonEl.classList.add('colab-df-spinner');\n",
              "      try {\n",
              "        const charts = await google.colab.kernel.invokeFunction(\n",
              "            'suggestCharts', [key], {});\n",
              "      } catch (error) {\n",
              "        console.error('Error during call to suggestCharts:', error);\n",
              "      }\n",
              "      quickchartButtonEl.classList.remove('colab-df-spinner');\n",
              "      quickchartButtonEl.classList.add('colab-df-quickchart-complete');\n",
              "    }\n",
              "    (() => {\n",
              "      let quickchartButtonEl =\n",
              "        document.querySelector('#df-78269942-0e7a-40b2-962d-2427f0d95521 button');\n",
              "      quickchartButtonEl.style.display =\n",
              "        google.colab.kernel.accessAllowed ? 'block' : 'none';\n",
              "    })();\n",
              "  </script>\n",
              "</div>\n",
              "\n",
              "    </div>\n",
              "  </div>\n"
            ],
            "application/vnd.google.colaboratory.intrinsic+json": {
              "type": "dataframe",
              "variable_name": "data",
              "summary": "{\n  \"name\": \"data\",\n  \"rows\": 15000,\n  \"fields\": [\n    {\n      \"column\": \"Unnamed: 0\",\n      \"properties\": {\n        \"dtype\": \"number\",\n        \"std\": 4330,\n        \"min\": 0,\n        \"max\": 14999,\n        \"num_unique_values\": 15000,\n        \"samples\": [\n          11499,\n          6475,\n          13167\n        ],\n        \"semantic_type\": \"\",\n        \"description\": \"\"\n      }\n    },\n    {\n      \"column\": \"data_ref\",\n      \"properties\": {\n        \"dtype\": \"object\",\n        \"num_unique_values\": 15,\n        \"samples\": [\n          \"2015-10-01\",\n          \"2015-12-01\",\n          \"2015-01-01\"\n        ],\n        \"semantic_type\": \"\",\n        \"description\": \"\"\n      }\n    },\n    {\n      \"column\": \"index\",\n      \"properties\": {\n        \"dtype\": \"number\",\n        \"std\": 4800,\n        \"min\": 0,\n        \"max\": 16649,\n        \"num_unique_values\": 9837,\n        \"samples\": [\n          7869,\n          9652,\n          3336\n        ],\n        \"semantic_type\": \"\",\n        \"description\": \"\"\n      }\n    },\n    {\n      \"column\": \"sexo\",\n      \"properties\": {\n        \"dtype\": \"category\",\n        \"num_unique_values\": 2,\n        \"samples\": [\n          \"M\",\n          \"F\"\n        ],\n        \"semantic_type\": \"\",\n        \"description\": \"\"\n      }\n    },\n    {\n      \"column\": \"posse_de_veiculo\",\n      \"properties\": {\n        \"dtype\": \"boolean\",\n        \"num_unique_values\": 2,\n        \"samples\": [\n          true,\n          false\n        ],\n        \"semantic_type\": \"\",\n        \"description\": \"\"\n      }\n    },\n    {\n      \"column\": \"posse_de_imovel\",\n      \"properties\": {\n        \"dtype\": \"boolean\",\n        \"num_unique_values\": 2,\n        \"samples\": [\n          false,\n          true\n        ],\n        \"semantic_type\": \"\",\n        \"description\": \"\"\n      }\n    },\n    {\n      \"column\": \"qtd_filhos\",\n      \"properties\": {\n        \"dtype\": \"number\",\n        \"std\": 0,\n        \"min\": 0,\n        \"max\": 14,\n        \"num_unique_values\": 8,\n        \"samples\": [\n          0,\n          4\n        ],\n        \"semantic_type\": \"\",\n        \"description\": \"\"\n      }\n    },\n    {\n      \"column\": \"tipo_renda\",\n      \"properties\": {\n        \"dtype\": \"category\",\n        \"num_unique_values\": 5,\n        \"samples\": [\n          \"Empres\\u00e1rio\",\n          \"Bolsista\"\n        ],\n        \"semantic_type\": \"\",\n        \"description\": \"\"\n      }\n    },\n    {\n      \"column\": \"educacao\",\n      \"properties\": {\n        \"dtype\": \"category\",\n        \"num_unique_values\": 5,\n        \"samples\": [\n          \"Superior completo\",\n          \"P\\u00f3s gradua\\u00e7\\u00e3o\"\n        ],\n        \"semantic_type\": \"\",\n        \"description\": \"\"\n      }\n    },\n    {\n      \"column\": \"estado_civil\",\n      \"properties\": {\n        \"dtype\": \"category\",\n        \"num_unique_values\": 5,\n        \"samples\": [\n          \"Uni\\u00e3o\",\n          \"Vi\\u00favo\"\n        ],\n        \"semantic_type\": \"\",\n        \"description\": \"\"\n      }\n    },\n    {\n      \"column\": \"tipo_residencia\",\n      \"properties\": {\n        \"dtype\": \"category\",\n        \"num_unique_values\": 6,\n        \"samples\": [\n          \"Casa\",\n          \"Com os pais\"\n        ],\n        \"semantic_type\": \"\",\n        \"description\": \"\"\n      }\n    },\n    {\n      \"column\": \"idade\",\n      \"properties\": {\n        \"dtype\": \"number\",\n        \"std\": 11,\n        \"min\": 22,\n        \"max\": 68,\n        \"num_unique_values\": 47,\n        \"samples\": [\n          32,\n          45\n        ],\n        \"semantic_type\": \"\",\n        \"description\": \"\"\n      }\n    },\n    {\n      \"column\": \"tempo_emprego\",\n      \"properties\": {\n        \"dtype\": \"number\",\n        \"std\": 6.7802164260173985,\n        \"min\": 0.1917808219178082,\n        \"max\": 42.90684931506849,\n        \"num_unique_values\": 2571,\n        \"samples\": [\n          8.29041095890411,\n          8.473972602739726\n        ],\n        \"semantic_type\": \"\",\n        \"description\": \"\"\n      }\n    },\n    {\n      \"column\": \"qt_pessoas_residencia\",\n      \"properties\": {\n        \"dtype\": \"number\",\n        \"std\": 0.9223519814948151,\n        \"min\": 1.0,\n        \"max\": 15.0,\n        \"num_unique_values\": 9,\n        \"samples\": [\n          15.0,\n          2.0\n        ],\n        \"semantic_type\": \"\",\n        \"description\": \"\"\n      }\n    },\n    {\n      \"column\": \"mau\",\n      \"properties\": {\n        \"dtype\": \"boolean\",\n        \"num_unique_values\": 2,\n        \"samples\": [\n          true,\n          false\n        ],\n        \"semantic_type\": \"\",\n        \"description\": \"\"\n      }\n    },\n    {\n      \"column\": \"renda\",\n      \"properties\": {\n        \"dtype\": \"number\",\n        \"std\": 4628.571729203332,\n        \"min\": 159.9,\n        \"max\": 89918.04,\n        \"num_unique_values\": 9759,\n        \"samples\": [\n          14293.1,\n          5067.93\n        ],\n        \"semantic_type\": \"\",\n        \"description\": \"\"\n      }\n    }\n  ]\n}"
            }
          },
          "metadata": {},
          "execution_count": 3
        }
      ]
    },
    {
      "cell_type": "markdown",
      "source": [
        "**1- Análise da variável dependente: Possui imovél**"
      ],
      "metadata": {
        "id": "fuC761IVR7QB"
      }
    },
    {
      "cell_type": "code",
      "source": [
        "ax = sns.pointplot(x=\"posse_de_imovel\", y=\"renda\",\n",
        "                   data=data, dodge=True)"
      ],
      "metadata": {
        "colab": {
          "base_uri": "https://localhost:8080/",
          "height": 450
        },
        "id": "qswkx_h7_pTw",
        "outputId": "fdc16ae3-0b65-46ab-b809-38890dfec963"
      },
      "execution_count": 16,
      "outputs": [
        {
          "output_type": "display_data",
          "data": {
            "text/plain": [
              "<Figure size 640x480 with 1 Axes>"
            ],
            "image/png": "[encoded data removed]"
          },
          "metadata": {}
        }
      ]
    },
    {
      "cell_type": "markdown",
      "source": [
        "**2- Análise da variável dependente: Possui veículo**"
      ],
      "metadata": {
        "id": "bS5NyN79Su9E"
      }
    },
    {
      "cell_type": "code",
      "source": [
        "ax = sns.pointplot(x=\"posse_de_veiculo\", y=\"renda\",\n",
        "                   data=data, dodge=True)"
      ],
      "metadata": {
        "colab": {
          "base_uri": "https://localhost:8080/",
          "height": 450
        },
        "id": "tcZRMUMoCSZm",
        "outputId": "b3d57359-e149-403b-c5e7-6b39cd813b44"
      },
      "execution_count": 21,
      "outputs": [
        {
          "output_type": "display_data",
          "data": {
            "text/plain": [
              "<Figure size 640x480 with 1 Axes>"
            ],
            "image/png": "[encoded data removed]"
          },
          "metadata": {}
        }
      ]
    },
    {
      "cell_type": "markdown",
      "source": [
        "**3- Alguma delas parece discriminar renda de forma estatisticamente significante?**"
      ],
      "metadata": {
        "id": "ospa7SElSr84"
      }
    },
    {
      "cell_type": "code",
      "source": [
        "# Testes de significância\n",
        "veiculo_test = stats.ttest_ind(\n",
        "    data.loc[data['posse_de_veiculo'] == True, 'renda'],\n",
        "    data.loc[data['posse_de_veiculo'] == False, 'renda'],\n",
        "    equal_var=False\n",
        ")\n",
        "\n",
        "imovel_test = stats.ttest_ind(\n",
        "    data.loc[data['posse_de_imovel'] == True, 'renda'],\n",
        "    data.loc[data['posse_de_imovel'] == False, 'renda'],\n",
        "    equal_var=False\n",
        ")\n",
        "\n",
        "imovel_test, veiculo_test"
      ],
      "metadata": {
        "colab": {
          "base_uri": "https://localhost:8080/"
        },
        "id": "efPM-9iLSraB",
        "outputId": "c985cc91-0c95-44fd-c6c1-8e22ed9ff852"
      },
      "execution_count": 27,
      "outputs": [
        {
          "output_type": "execute_result",
          "data": {
            "text/plain": [
              "(TtestResult(statistic=3.677635545954218, pvalue=0.00023665092205816239, df=9914.341210708615),\n",
              " TtestResult(statistic=7.712332220715903, pvalue=1.3324346963629966e-14, df=12047.14260526655))"
            ]
          },
          "metadata": {},
          "execution_count": 27
        }
      ]
    },
    {
      "cell_type": "markdown",
      "source": [
        "**Ambas as variáveis podem ser consideradas boas preditoras da renda, pois apresentam diferenças significativas entre os grupos, com destaque para posse de veículo, que exibe um p-valor ainda menor.**\n",
        "\n"
      ],
      "metadata": {
        "id": "YO3nPg-1TUpB"
      }
    }
  ],
  "metadata": {
    "kernelspec": {
      "display_name": "Python 3",
      "language": "python",
      "name": "python3"
    },
    "language_info": {
      "codemirror_mode": {
        "name": "ipython",
        "version": 3
      },
      "file_extension": ".py",
      "mimetype": "text/x-python",
      "name": "python",
      "nbconvert_exporter": "python",
      "pygments_lexer": "ipython3",
      "version": "3.8.5"
    },
    "colab": {
      "provenance": [],
      "include_colab_link": true
    }
  },
  "nbformat": 4,
  "nbformat_minor": 0
}
