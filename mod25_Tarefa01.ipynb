{
  "cells": [
    {
      "cell_type": "markdown",
      "metadata": {
        "id": "view-in-github",
        "colab_type": "text"
      },
      "source": [
        "<a href=\"https://colab.research.google.com/github/ericbonelli/Cientista-de-Dados_EBAC/blob/main/mod25_Tarefa01.ipynb\" target=\"_parent\"><img src=\"https://colab.research.google.com/assets/colab-badge.svg\" alt=\"Open In Colab\"/></a>"
      ]
    },
    {
      "cell_type": "markdown",
      "metadata": {
        "id": "rGrI4XZfxh5W"
      },
      "source": [
        "# Cálculo - Tarefa 01\n",
        "\n",
        "1. Marque quais desses métodos/algoritmos muito populares em ciência de dados são baseados no uso de derivada:\n",
        "\n",
        "    1. Método Mínimos Quadrados\n",
        "    2. Gradiente descendente\n",
        "    3. Newton Raphson\n",
        "    4. CART (Árvore de decisão)"
      ]
    },
    {
      "cell_type": "markdown",
      "source": [
        "## Algoritmos que Utilizam Derivadas em Ciência de Dados\n",
        "\n",
        "Abaixo estão alguns métodos populares em ciência de dados e a indicação se utilizam **derivadas** em sua formulação ou execução:\n",
        "\n",
        "| Método/Algoritmo             | Usa Derivada? | Justificativa                                                                 |\n",
        "|-----------------------------|:-------------:|-------------------------------------------------------------------------------|\n",
        "| **Método dos Mínimos Quadrados** | ✅ Sim         | A versão analítica envolve derivadas para minimizar a soma dos erros quadráticos. |\n",
        "| **Gradiente Descendente**       | ✅ Sim         | Utiliza o gradiente (vetor de derivadas parciais) para encontrar a direção de descida. |\n",
        "| **Newton-Raphson**             | ✅ Sim         | Baseado na primeira e segunda derivadas (incluindo a Hessiana em casos multivariados). |\n",
        "| **CART (Árvore de Decisão)**   | ❌ Não         | Não utiliza derivadas; baseia-se em partições de dados via medidas como Gini ou entropia. |\n",
        "\n",
        "### ✅ Métodos baseados em derivada:\n",
        "- Método dos Mínimos Quadrados  \n",
        "- Gradiente Descendente  \n",
        "- Newton-Raphson\n",
        "\n",
        "### ❌ Método que **não** utiliza derivadas:\n",
        "- CART (Árvore de Decisão)\n",
        "___"
      ],
      "metadata": {
        "id": "yP1QtgEexv7Q"
      }
    },
    {
      "cell_type": "markdown",
      "metadata": {
        "id": "uKsyyPalxh5h"
      },
      "source": [
        "2. Dada uma base de dados com uma variável resposta $y$ e um conjunto de variáveis explicativas. Considere uma estrutura de um modelo de regressão. Explique com suas palavras por que não é possível obter parâmetros que forneçam um erro quadrático médio (EQM) menor que o obtido com estimadores de mínimos quadrados."
      ]
    },
    {
      "cell_type": "markdown",
      "source": [
        "\n",
        "Quando usamos um modelo de regressão linear, queremos encontrar os melhores coeficientes para prever a variável resposta 𝑦. O método dos **mínimos quadrados** faz isso da forma mais eficiente possível, pois ele **escolhe os parâmetros que deixam os erros (diferença entre o valor real e o previsto) o menor possível ao quadrado**.\n",
        "\n",
        "Logo, não dá pra ter um EQM menor do que o que já é obtido pelos mínimos quadrados, pois esse método **foi feito justamente para isso: minimizar o erro médio ao quadrado**. Ele é o melhor possível nesse sentido.\n",
        "\n"
      ],
      "metadata": {
        "id": "85UEdc3EyAjl"
      }
    }
  ],
  "metadata": {
    "kernelspec": {
      "display_name": "Python 3",
      "language": "python",
      "name": "python3"
    },
    "language_info": {
      "codemirror_mode": {
        "name": "ipython",
        "version": 3
      },
      "file_extension": ".py",
      "mimetype": "text/x-python",
      "name": "python",
      "nbconvert_exporter": "python",
      "pygments_lexer": "ipython3",
      "version": "3.8.5"
    },
    "toc": {
      "base_numbering": 1,
      "nav_menu": {},
      "number_sections": true,
      "sideBar": true,
      "skip_h1_title": true,
      "title_cell": "Índice",
      "title_sidebar": "Conteúdo",
      "toc_cell": false,
      "toc_position": {},
      "toc_section_display": true,
      "toc_window_display": false
    },
    "varInspector": {
      "cols": {
        "lenName": 16,
        "lenType": 16,
        "lenVar": 40
      },
      "kernels_config": {
        "python": {
          "delete_cmd_postfix": "",
          "delete_cmd_prefix": "del ",
          "library": "var_list.py",
          "varRefreshCmd": "print(var_dic_list())"
        },
        "r": {
          "delete_cmd_postfix": ") ",
          "delete_cmd_prefix": "rm(",
          "library": "var_list.r",
          "varRefreshCmd": "cat(var_dic_list()) "
        }
      },
      "types_to_exclude": [
        "module",
        "function",
        "builtin_function_or_method",
        "instance",
        "_Feature"
      ],
      "window_display": false
    },
    "colab": {
      "provenance": [],
      "include_colab_link": true
    }
  },
  "nbformat": 4,
  "nbformat_minor": 0
}